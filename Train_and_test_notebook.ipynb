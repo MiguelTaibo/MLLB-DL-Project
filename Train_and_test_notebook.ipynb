{
 "cells": [
  {
   "cell_type": "markdown",
   "metadata": {},
   "source": [
    "# Check GPU options"
   ]
  },
  {
   "cell_type": "code",
   "execution_count": 1,
   "metadata": {},
   "outputs": [
    {
     "name": "stdout",
     "output_type": "stream",
     "text": [
      "[name: \"/device:CPU:0\"\n",
      "device_type: \"CPU\"\n",
      "memory_limit: 268435456\n",
      "locality {\n",
      "}\n",
      "incarnation: 6069248090237259449\n",
      "xla_global_id: -1\n",
      ", name: \"/device:GPU:0\"\n",
      "device_type: \"GPU\"\n",
      "memory_limit: 6984105984\n",
      "locality {\n",
      "  bus_id: 1\n",
      "  links {\n",
      "  }\n",
      "}\n",
      "incarnation: 4131367650262868376\n",
      "physical_device_desc: \"device: 0, name: NVIDIA GeForce RTX 2070 SUPER, pci bus id: 0000:06:00.0, compute capability: 7.5\"\n",
      "xla_global_id: 416903419\n",
      ", name: \"/device:GPU:1\"\n",
      "device_type: \"GPU\"\n",
      "memory_limit: 6913851392\n",
      "locality {\n",
      "  bus_id: 1\n",
      "  links {\n",
      "  }\n",
      "}\n",
      "incarnation: 4870729057370114963\n",
      "physical_device_desc: \"device: 1, name: NVIDIA GeForce RTX 2070 SUPER, pci bus id: 0000:07:00.0, compute capability: 7.5\"\n",
      "xla_global_id: 2144165316\n",
      "]\n"
     ]
    },
    {
     "name": "stderr",
     "output_type": "stream",
     "text": [
      "2022-01-04 19:53:27.739114: I tensorflow/core/platform/cpu_feature_guard.cc:151] This TensorFlow binary is optimized with oneAPI Deep Neural Network Library (oneDNN) to use the following CPU instructions in performance-critical operations:  AVX2 FMA\n",
      "To enable them in other operations, rebuild TensorFlow with the appropriate compiler flags.\n",
      "2022-01-04 19:53:28.000427: I tensorflow/stream_executor/cuda/cuda_gpu_executor.cc:939] successful NUMA node read from SysFS had negative value (-1), but there must be at least one NUMA node, so returning NUMA node zero\n",
      "2022-01-04 19:53:28.000757: I tensorflow/stream_executor/cuda/cuda_gpu_executor.cc:939] successful NUMA node read from SysFS had negative value (-1), but there must be at least one NUMA node, so returning NUMA node zero\n",
      "2022-01-04 19:53:28.026911: I tensorflow/stream_executor/cuda/cuda_gpu_executor.cc:939] successful NUMA node read from SysFS had negative value (-1), but there must be at least one NUMA node, so returning NUMA node zero\n",
      "2022-01-04 19:53:28.027362: I tensorflow/stream_executor/cuda/cuda_gpu_executor.cc:939] successful NUMA node read from SysFS had negative value (-1), but there must be at least one NUMA node, so returning NUMA node zero\n",
      "2022-01-04 19:53:28.027746: I tensorflow/stream_executor/cuda/cuda_gpu_executor.cc:939] successful NUMA node read from SysFS had negative value (-1), but there must be at least one NUMA node, so returning NUMA node zero\n",
      "2022-01-04 19:53:28.028120: I tensorflow/stream_executor/cuda/cuda_gpu_executor.cc:939] successful NUMA node read from SysFS had negative value (-1), but there must be at least one NUMA node, so returning NUMA node zero\n",
      "2022-01-04 19:53:28.621161: I tensorflow/stream_executor/cuda/cuda_gpu_executor.cc:939] successful NUMA node read from SysFS had negative value (-1), but there must be at least one NUMA node, so returning NUMA node zero\n",
      "2022-01-04 19:53:28.621526: I tensorflow/stream_executor/cuda/cuda_gpu_executor.cc:939] successful NUMA node read from SysFS had negative value (-1), but there must be at least one NUMA node, so returning NUMA node zero\n",
      "2022-01-04 19:53:28.621821: I tensorflow/stream_executor/cuda/cuda_gpu_executor.cc:939] successful NUMA node read from SysFS had negative value (-1), but there must be at least one NUMA node, so returning NUMA node zero\n",
      "2022-01-04 19:53:28.622111: I tensorflow/stream_executor/cuda/cuda_gpu_executor.cc:939] successful NUMA node read from SysFS had negative value (-1), but there must be at least one NUMA node, so returning NUMA node zero\n",
      "2022-01-04 19:53:28.622397: I tensorflow/stream_executor/cuda/cuda_gpu_executor.cc:939] successful NUMA node read from SysFS had negative value (-1), but there must be at least one NUMA node, so returning NUMA node zero\n",
      "2022-01-04 19:53:28.622693: I tensorflow/core/common_runtime/gpu/gpu_device.cc:1525] Created device /device:GPU:0 with 6660 MB memory:  -> device: 0, name: NVIDIA GeForce RTX 2070 SUPER, pci bus id: 0000:06:00.0, compute capability: 7.5\n",
      "2022-01-04 19:53:28.622945: I tensorflow/stream_executor/cuda/cuda_gpu_executor.cc:939] successful NUMA node read from SysFS had negative value (-1), but there must be at least one NUMA node, so returning NUMA node zero\n",
      "2022-01-04 19:53:28.623216: I tensorflow/core/common_runtime/gpu/gpu_device.cc:1525] Created device /device:GPU:1 with 6593 MB memory:  -> device: 1, name: NVIDIA GeForce RTX 2070 SUPER, pci bus id: 0000:07:00.0, compute capability: 7.5\n"
     ]
    }
   ],
   "source": [
    "from tensorflow.python.client import device_lib\n",
    "print(device_lib.list_local_devices())"
   ]
  },
  {
   "cell_type": "markdown",
   "metadata": {},
   "source": [
    "# Import needed libraries"
   ]
  },
  {
   "cell_type": "code",
   "execution_count": 2,
   "metadata": {},
   "outputs": [],
   "source": [
    "# Import general purpose python libraries\n",
    "import os\n",
    "import matplotlib.pyplot as plt\n",
    "from PIL import Image # For handling the images\n",
    "import numpy as np\n",
    "from sklearn import metrics\n",
    "import pandas as pd\n",
    "# Import different Keras functionalities\n",
    "import tensorflow as tf\n",
    "from tensorflow import keras\n",
    "from keras.constraints import maxnorm\n",
    "from keras.utils import np_utils\n",
    "from tensorflow.keras.optimizers import SGD,Adagrad\n",
    "# from keras.optimizers import SGD,Adagrad\n",
    "from keras import backend as K\n",
    "#from keras.applications import ResNet50,Xception,VGG16,VGG19\n",
    "from sklearn.model_selection import train_test_split\n",
    "\n",
    "from plotcm import plotcm\n",
    "\n",
    "####\n",
    "# Where to save the figures\n",
    "IMAGES_PATH = \"../images\"\n",
    "os.makedirs(IMAGES_PATH, exist_ok=True)\n",
    "\n",
    "def save_fig(fig_id, tight_layout=True, fig_extension=\"png\", resolution=300):\n",
    "    path = os.path.join(IMAGES_PATH, fig_id + \".\" + fig_extension)\n",
    "    print(\"Saving figure\", fig_id)\n",
    "    if tight_layout:\n",
    "        plt.tight_layout()\n",
    "    plt.savefig(path, format=fig_extension, dpi=resolution)\n",
    "from utils import saveFigures,write_json,create_json,load_previous_weights\n",
    "\n",
    "from models import VGG16, MLP_model"
   ]
  },
  {
   "cell_type": "markdown",
   "metadata": {},
   "source": [
    "# Load data"
   ]
  },
  {
   "cell_type": "code",
   "execution_count": 3,
   "metadata": {},
   "outputs": [
    {
     "name": "stdout",
     "output_type": "stream",
     "text": [
      "num_training_samples:  (40000, 32, 32, 3)\n"
     ]
    }
   ],
   "source": [
    "cifar10 = keras.datasets.cifar10\n",
    "(X_train_full, y_train_full), (X_test, y_test) = cifar10.load_data()\n",
    "\n",
    "X_train, X_valid, y_train, y_valid = train_test_split(X_train_full, y_train_full, test_size=0.2, random_state=1)\n",
    "\n",
    "X_train = X_train/255.\n",
    "X_valid = X_valid/255.\n",
    "X_test = X_test/255.\n",
    "\n",
    "y_train = np_utils.to_categorical(y_train)\n",
    "y_test = np_utils.to_categorical(y_test)\n",
    "\n",
    "num_classes = y_test.shape[1]\n",
    "class_names = [\"airplane\",\"automobile\",\"bird\",\"cat\",\"deer\",\"dog\",\"frog\",\"horse\",\"ship\",\"truck\"]\n",
    "\n",
    "print(\"num_training_samples: \", X_train.shape)"
   ]
  },
  {
   "cell_type": "markdown",
   "metadata": {},
   "source": [
    "# Configuration parameters\n",
    "Configuration values of different parts of the solution. You should change some of them to obtain better results."
   ]
  },
  {
   "cell_type": "code",
   "execution_count": 4,
   "metadata": {},
   "outputs": [
    {
     "name": "stdout",
     "output_type": "stream",
     "text": [
      "./test/04_19_53_29/\n"
     ]
    }
   ],
   "source": [
    "from datetime import datetime\n",
    "# Randomize the initial network \n",
    "keras.backend.clear_session()\n",
    "np.random.seed(42)\n",
    "tf.random.set_seed(42)\n",
    "\n",
    "\n",
    "# Directory where to store weights of the model and results\n",
    "now = datetime.now()\n",
    "current_time = now.strftime(\"%d_%H_%M_%S\")\n",
    "experiment_rootdir = \"./test/\"+current_time+\"/\"\n",
    "weights_path = experiment_rootdir +\"weights.h5\"\n",
    "weights_best_path = experiment_rootdir +\"weights_best.h5\"\n",
    "json_path = experiment_rootdir +\"experiment.json\"\n",
    "\n",
    "# Create experiment directory if it does not exists\n",
    "if not os.path.exists(experiment_rootdir):\n",
    "    os.makedirs(experiment_rootdir)\n",
    "print(experiment_rootdir)"
   ]
  },
  {
   "cell_type": "code",
   "execution_count": 5,
   "metadata": {},
   "outputs": [],
   "source": [
    "# Parameters that configures the training process\n",
    "\n",
    "# Tunable parameters\n",
    "name_model = \"Prueba\"\n",
    "initial_lr = 1e-3 \n",
    "\n",
    "l2_reg = 0.0\n",
    "dropout = 0.0\n",
    "\n",
    "compile_parameters = { \"metrics\": ['accuracy'], \"optimizer\": SGD(learning_rate=initial_lr)}\n",
    "\n",
    "# TODO\n",
    "\n",
    "\n",
    "## Constant parameters\n",
    "batch_size = 512 \n",
    "epochs = 100\n",
    "initial_epoch = 0 \n",
    "num_classes = 10\n",
    "dropout = 0.5\n",
    "compile_parameters = { \"metrics\": ['accuracy'],\n",
    "                      \"optimizer\": SGD(learning_rate=0.001, momentum=0.9)}\n",
    "checkpoint_cb = keras.callbacks.ModelCheckpoint(weights_best_path,\n",
    "save_best_only=True)\n",
    "early_stopping_cb = keras.callbacks.EarlyStopping(patience=10,\n",
    "restore_best_weights=True)\n",
    "'''\n",
    "optimizer=  = keras.optimizers.SGD(learning_rate=0.001, momentum=0.9)\n",
    "optimizer = keras.optimizers.SGD(learning_rate=0.001, momentum=0.9, nesterov=True)\n",
    "optimizer = keras.optimizers.Adagrad(learning_rate=0.001)\n",
    "optimizer = keras.optimizers.RMSprop(learning_rate=0.001, rho=0.9)\n",
    "optimizer = keras.optimizers.Adam(learning_rate=0.001, beta_1=0.9, beta_2=0.999)\n",
    "optimizer = keras.optimizers.Adamax(learning_rate=0.001, beta_1=0.9, beta_2=0.999)\n",
    "optimizer = keras.optimizers.Nadam(learning_rate=0.001, beta_1=0.9, beta_2=0.999)\n",
    "'''\n",
    "\n",
    "parameters = {\n",
    "    \"name_model\":name_model,\n",
    "    \"compile_parameters\" :str(compile_parameters) ,\n",
    "    \"batch_size\": batch_size,\n",
    "    \"epochs\": epochs, \n",
    "    \"initial_epoch\":initial_epoch, \n",
    "    \"initial_lr\": initial_lr,\n",
    "    \"num_classes\": num_classes,\n",
    "    \"dropout\": dropout\n",
    "\n",
    "}\n",
    "create_json({\"parameters\":parameters}, json_path)\n"
   ]
  },
  {
   "cell_type": "code",
   "execution_count": 6,
   "metadata": {},
   "outputs": [],
   "source": [
    "def trainModel(model,compile_parameters,X_train, y_train, validation_data, epochs, batch_size, experiment_rootdir, weights_path, json_path):\n",
    "    model.compile(loss='categorical_crossentropy', optimizer=compile_parameters['optimizer'], metrics=compile_parameters['metrics'])\n",
    "    print(model.summary())\n",
    "    history = model.fit(x= X_train, y= y_train, validation_data = validation_data, epochs = epochs, batch_size= batch_size,callbacks=[checkpoint_cb, early_stopping_cb])\n",
    "    model.save_weights(weights_path)\n",
    "    hist_df = pd.DataFrame(history.history) \n",
    "    data = {\"train_result2\":hist_df.to_dict()}\n",
    "    write_json(data,json_path)\n",
    "    return history"
   ]
  },
  {
   "cell_type": "markdown",
   "metadata": {},
   "source": [
    "# Training "
   ]
  },
  {
   "cell_type": "code",
   "execution_count": null,
   "metadata": {
    "scrolled": true
   },
   "outputs": [
    {
     "name": "stdout",
     "output_type": "stream",
     "text": [
      "Impossible to find weight path. Returning untrained model\n",
      "Model: \"model\"\n",
      "_________________________________________________________________\n",
      " Layer (type)                Output Shape              Param #   \n",
      "=================================================================\n",
      " input_1 (InputLayer)        [(None, 32, 32, 3)]       0         \n",
      "                                                                 \n",
      " flatten (Flatten)           (None, 3072)              0         \n",
      "                                                                 \n",
      " dense (Dense)               (None, 689)               2117297   \n",
      "                                                                 \n",
      " dense_1 (Dense)             (None, 344)               237360    \n",
      "                                                                 \n",
      " dense_2 (Dense)             (None, 10)                3450      \n",
      "                                                                 \n",
      "=================================================================\n",
      "Total params: 2,358,107\n",
      "Trainable params: 2,358,107\n",
      "Non-trainable params: 0\n",
      "_________________________________________________________________\n",
      "None\n"
     ]
    },
    {
     "name": "stderr",
     "output_type": "stream",
     "text": [
      "2022-01-04 19:53:29.696252: I tensorflow/stream_executor/cuda/cuda_gpu_executor.cc:939] successful NUMA node read from SysFS had negative value (-1), but there must be at least one NUMA node, so returning NUMA node zero\n",
      "2022-01-04 19:53:29.696637: I tensorflow/stream_executor/cuda/cuda_gpu_executor.cc:939] successful NUMA node read from SysFS had negative value (-1), but there must be at least one NUMA node, so returning NUMA node zero\n",
      "2022-01-04 19:53:29.696943: I tensorflow/stream_executor/cuda/cuda_gpu_executor.cc:939] successful NUMA node read from SysFS had negative value (-1), but there must be at least one NUMA node, so returning NUMA node zero\n",
      "2022-01-04 19:53:29.697227: I tensorflow/stream_executor/cuda/cuda_gpu_executor.cc:939] successful NUMA node read from SysFS had negative value (-1), but there must be at least one NUMA node, so returning NUMA node zero\n",
      "2022-01-04 19:53:29.697530: I tensorflow/stream_executor/cuda/cuda_gpu_executor.cc:939] successful NUMA node read from SysFS had negative value (-1), but there must be at least one NUMA node, so returning NUMA node zero\n",
      "2022-01-04 19:53:29.697819: I tensorflow/stream_executor/cuda/cuda_gpu_executor.cc:939] successful NUMA node read from SysFS had negative value (-1), but there must be at least one NUMA node, so returning NUMA node zero\n",
      "2022-01-04 19:53:29.698228: I tensorflow/stream_executor/cuda/cuda_gpu_executor.cc:939] successful NUMA node read from SysFS had negative value (-1), but there must be at least one NUMA node, so returning NUMA node zero\n",
      "2022-01-04 19:53:29.698519: I tensorflow/stream_executor/cuda/cuda_gpu_executor.cc:939] successful NUMA node read from SysFS had negative value (-1), but there must be at least one NUMA node, so returning NUMA node zero\n",
      "2022-01-04 19:53:29.698804: I tensorflow/stream_executor/cuda/cuda_gpu_executor.cc:939] successful NUMA node read from SysFS had negative value (-1), but there must be at least one NUMA node, so returning NUMA node zero\n",
      "2022-01-04 19:53:29.699085: I tensorflow/stream_executor/cuda/cuda_gpu_executor.cc:939] successful NUMA node read from SysFS had negative value (-1), but there must be at least one NUMA node, so returning NUMA node zero\n",
      "2022-01-04 19:53:29.699366: I tensorflow/stream_executor/cuda/cuda_gpu_executor.cc:939] successful NUMA node read from SysFS had negative value (-1), but there must be at least one NUMA node, so returning NUMA node zero\n",
      "2022-01-04 19:53:29.699648: I tensorflow/stream_executor/cuda/cuda_gpu_executor.cc:939] successful NUMA node read from SysFS had negative value (-1), but there must be at least one NUMA node, so returning NUMA node zero\n",
      "2022-01-04 19:53:29.700002: I tensorflow/stream_executor/cuda/cuda_gpu_executor.cc:939] successful NUMA node read from SysFS had negative value (-1), but there must be at least one NUMA node, so returning NUMA node zero\n",
      "2022-01-04 19:53:29.700288: I tensorflow/stream_executor/cuda/cuda_gpu_executor.cc:939] successful NUMA node read from SysFS had negative value (-1), but there must be at least one NUMA node, so returning NUMA node zero\n",
      "2022-01-04 19:53:29.700573: I tensorflow/stream_executor/cuda/cuda_gpu_executor.cc:939] successful NUMA node read from SysFS had negative value (-1), but there must be at least one NUMA node, so returning NUMA node zero\n",
      "2022-01-04 19:53:29.700840: I tensorflow/core/common_runtime/gpu/gpu_device.cc:1525] Created device /job:localhost/replica:0/task:0/device:GPU:0 with 6660 MB memory:  -> device: 0, name: NVIDIA GeForce RTX 2070 SUPER, pci bus id: 0000:06:00.0, compute capability: 7.5\n",
      "2022-01-04 19:53:29.700876: I tensorflow/stream_executor/cuda/cuda_gpu_executor.cc:939] successful NUMA node read from SysFS had negative value (-1), but there must be at least one NUMA node, so returning NUMA node zero\n",
      "2022-01-04 19:53:29.701138: I tensorflow/core/common_runtime/gpu/gpu_device.cc:1525] Created device /job:localhost/replica:0/task:0/device:GPU:1 with 6593 MB memory:  -> device: 1, name: NVIDIA GeForce RTX 2070 SUPER, pci bus id: 0000:07:00.0, compute capability: 7.5\n"
     ]
    },
    {
     "name": "stdout",
     "output_type": "stream",
     "text": [
      "Epoch 1/100\n",
      "79/79 [==============================] - 2s 14ms/step - loss: 2.1655 - accuracy: 0.2172 - val_loss: 2.0391 - val_accuracy: 0.2916\n",
      "Epoch 2/100\n",
      "79/79 [==============================] - 1s 9ms/step - loss: 1.9841 - accuracy: 0.3082 - val_loss: 1.9408 - val_accuracy: 0.3268\n",
      "Epoch 3/100\n",
      "79/79 [==============================] - 1s 9ms/step - loss: 1.9117 - accuracy: 0.3369 - val_loss: 1.8848 - val_accuracy: 0.3477\n",
      "Epoch 4/100\n",
      "79/79 [==============================] - 1s 10ms/step - loss: 1.8659 - accuracy: 0.3530 - val_loss: 1.8494 - val_accuracy: 0.3629\n",
      "Epoch 5/100\n",
      "79/79 [==============================] - 1s 9ms/step - loss: 1.8334 - accuracy: 0.3640 - val_loss: 1.8229 - val_accuracy: 0.3680\n",
      "Epoch 6/100\n",
      "79/79 [==============================] - 1s 9ms/step - loss: 1.8065 - accuracy: 0.3723 - val_loss: 1.7974 - val_accuracy: 0.3796\n",
      "Epoch 7/100\n",
      "79/79 [==============================] - 1s 9ms/step - loss: 1.7844 - accuracy: 0.3824 - val_loss: 1.7782 - val_accuracy: 0.3855\n",
      "Epoch 8/100\n",
      "79/79 [==============================] - 1s 9ms/step - loss: 1.7671 - accuracy: 0.3875 - val_loss: 1.7625 - val_accuracy: 0.3892\n",
      "Epoch 9/100\n",
      "79/79 [==============================] - 1s 9ms/step - loss: 1.7485 - accuracy: 0.3944 - val_loss: 1.7508 - val_accuracy: 0.3915\n",
      "Epoch 10/100\n",
      "79/79 [==============================] - 1s 9ms/step - loss: 1.7349 - accuracy: 0.4003 - val_loss: 1.7328 - val_accuracy: 0.3978\n",
      "Epoch 11/100\n",
      "79/79 [==============================] - 1s 10ms/step - loss: 1.7215 - accuracy: 0.4053 - val_loss: 1.7210 - val_accuracy: 0.4036\n",
      "Epoch 12/100\n",
      "79/79 [==============================] - 1s 10ms/step - loss: 1.7086 - accuracy: 0.4105 - val_loss: 1.7061 - val_accuracy: 0.4063\n",
      "Epoch 13/100\n",
      "79/79 [==============================] - 1s 9ms/step - loss: 1.6961 - accuracy: 0.4146 - val_loss: 1.6975 - val_accuracy: 0.4126\n",
      "Epoch 14/100\n",
      "79/79 [==============================] - 1s 9ms/step - loss: 1.6844 - accuracy: 0.4186 - val_loss: 1.6851 - val_accuracy: 0.4142\n",
      "Epoch 15/100\n",
      "79/79 [==============================] - 1s 10ms/step - loss: 1.6738 - accuracy: 0.4212 - val_loss: 1.6760 - val_accuracy: 0.4192\n",
      "Epoch 16/100\n",
      "79/79 [==============================] - 1s 9ms/step - loss: 1.6614 - accuracy: 0.4260 - val_loss: 1.6710 - val_accuracy: 0.4147\n",
      "Epoch 17/100\n",
      "79/79 [==============================] - 1s 9ms/step - loss: 1.6535 - accuracy: 0.4290 - val_loss: 1.6640 - val_accuracy: 0.4228\n",
      "Epoch 18/100\n",
      "79/79 [==============================] - 1s 10ms/step - loss: 1.6440 - accuracy: 0.4320 - val_loss: 1.6515 - val_accuracy: 0.4277\n",
      "Epoch 19/100\n",
      "79/79 [==============================] - 1s 9ms/step - loss: 1.6342 - accuracy: 0.4369 - val_loss: 1.6518 - val_accuracy: 0.4192\n",
      "Epoch 20/100\n",
      "79/79 [==============================] - 1s 9ms/step - loss: 1.6249 - accuracy: 0.4381 - val_loss: 1.6368 - val_accuracy: 0.4285\n",
      "Epoch 21/100\n",
      "79/79 [==============================] - 1s 9ms/step - loss: 1.6164 - accuracy: 0.4420 - val_loss: 1.6272 - val_accuracy: 0.4304\n",
      "Epoch 22/100\n",
      "79/79 [==============================] - 1s 10ms/step - loss: 1.6074 - accuracy: 0.4439 - val_loss: 1.6215 - val_accuracy: 0.4364\n",
      "Epoch 23/100\n",
      "79/79 [==============================] - 1s 9ms/step - loss: 1.6001 - accuracy: 0.4471 - val_loss: 1.6108 - val_accuracy: 0.4397\n",
      "Epoch 24/100\n",
      "79/79 [==============================] - 1s 9ms/step - loss: 1.5912 - accuracy: 0.4498 - val_loss: 1.6104 - val_accuracy: 0.4405\n",
      "Epoch 25/100\n",
      "79/79 [==============================] - 1s 9ms/step - loss: 1.5847 - accuracy: 0.4532 - val_loss: 1.6023 - val_accuracy: 0.4388\n",
      "Epoch 26/100\n",
      "79/79 [==============================] - 1s 9ms/step - loss: 1.5779 - accuracy: 0.4541 - val_loss: 1.5970 - val_accuracy: 0.4387\n",
      "Epoch 27/100\n",
      "79/79 [==============================] - 1s 9ms/step - loss: 1.5719 - accuracy: 0.4558 - val_loss: 1.5884 - val_accuracy: 0.4446\n",
      "Epoch 28/100\n",
      "79/79 [==============================] - 1s 9ms/step - loss: 1.5660 - accuracy: 0.4576 - val_loss: 1.5826 - val_accuracy: 0.4472\n",
      "Epoch 29/100\n",
      "79/79 [==============================] - 1s 9ms/step - loss: 1.5574 - accuracy: 0.4617 - val_loss: 1.5789 - val_accuracy: 0.4472\n",
      "Epoch 30/100\n",
      "79/79 [==============================] - 1s 10ms/step - loss: 1.5493 - accuracy: 0.4654 - val_loss: 1.5731 - val_accuracy: 0.4485\n",
      "Epoch 31/100\n",
      "40/79 [==============>...............] - ETA: 0s - loss: 1.5417 - accuracy: 0.4642"
     ]
    }
   ],
   "source": [
    "#Get model\n",
    "model = MLP_model(2, num_classes=10, img_width=32, img_height=32, img_channels=3)\n",
    "\n",
    "#load weights\n",
    "load_previous_weights(model,weights_path)\n",
    "\n",
    "#training model\n",
    "val = (X_test, y_test)\n",
    "\n",
    "history =trainModel(model,compile_parameters,X_train, y_train,val, epochs, batch_size,experiment_rootdir,weights_path,json_path)\n",
    "\n",
    "saveFigures(experiment_rootdir, history, \"accuracy\", \"loss\")"
   ]
  },
  {
   "cell_type": "code",
   "execution_count": null,
   "metadata": {},
   "outputs": [],
   "source": [
    "\n",
    "from scipy.stats import reciprocal\n",
    "from sklearn.model_selection import RandomizedSearchCV\n",
    "\n",
    "param_distribs = {\n",
    "    \"batch_size\": np.arange(10, 40, 10),\n",
    "    \"initial_lr\": np.arange(0.00001, 0.0001, 0.00001),\n",
    "    \"dropout\": np.arange(0.1, 0.9, 0.1)\n",
    "}\n",
    "\n",
    "rnd_search_cv = RandomizedSearchCV(model, param_distribs, n_iter=10, cv=3, verbose=2)\n",
    "rnd_search_cv.fit(X_train, y_train, epochs=100,\n",
    "                  validation_data=(X_valid, y_valid),\n",
    "                  callbacks=[keras.callbacks.EarlyStopping(patience=10)])"
   ]
  },
  {
   "cell_type": "markdown",
   "metadata": {},
   "source": [
    "# Testing"
   ]
  },
  {
   "cell_type": "code",
   "execution_count": null,
   "metadata": {},
   "outputs": [],
   "source": [
    "model = VGG16(dropout, num_classes, img_width=32, img_height=32, img_channels=3)\n",
    "# Load saved weights\n",
    "model.compile(loss='categorical_crossentropy', optimizer=compile_parameters['optimizer'], metrics=compile_parameters['metrics'])\n",
    "\n",
    "y_pred = np.argmax(model.predict(X_test), axis=1)\n",
    "gt = np.argmax(y_test, axis=1)\n",
    "\n",
    "# Evaluate predictions: Average accuracy and highest errors\n",
    "print(\"-----------------------------------------------\")\n",
    "print(\"Evaluation:\")\n",
    "# Compute average accuracy\n",
    "ave_accuracy = metrics.accuracy_score(gt, y_pred)\n",
    "print('Average accuracy = ', ave_accuracy)\n",
    "print(\"-----------------------------------------------\")\n",
    "\n",
    "# Visualize confusion matrix                                           \n",
    "plotcm(experiment_rootdir, gt, y_pred,class_names, experiment_rootdir, normalize=True)\n"
   ]
  }
 ],
 "metadata": {
  "kernelspec": {
   "display_name": "Python 3 (ipykernel)",
   "language": "python",
   "name": "python3"
  },
  "language_info": {
   "codemirror_mode": {
    "name": "ipython",
    "version": 3
   },
   "file_extension": ".py",
   "mimetype": "text/x-python",
   "name": "python",
   "nbconvert_exporter": "python",
   "pygments_lexer": "ipython3",
   "version": "3.8.10"
  }
 },
 "nbformat": 4,
 "nbformat_minor": 4
}
