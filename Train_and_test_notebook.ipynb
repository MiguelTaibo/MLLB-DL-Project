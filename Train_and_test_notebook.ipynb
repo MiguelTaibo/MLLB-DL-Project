{
 "cells": [
  {
   "cell_type": "markdown",
   "metadata": {},
   "source": [
    "# Check GPU options"
   ]
  },
  {
   "cell_type": "code",
   "execution_count": null,
   "metadata": {},
   "outputs": [],
   "source": [
    "from tensorflow.python.client import device_lib\n",
    "print(device_lib.list_local_devices())"
   ]
  },
  {
   "cell_type": "markdown",
   "metadata": {},
   "source": [
    "# Import needed libraries"
   ]
  },
  {
   "cell_type": "code",
   "execution_count": null,
   "metadata": {},
   "outputs": [],
   "source": [
    "# Import general purpose python libraries\n",
    "import os\n",
    "import matplotlib.pyplot as plt\n",
    "from PIL import Image # For handling the images\n",
    "import numpy as np\n",
    "from sklearn import metrics\n",
    "import pandas as pd\n",
    "# Import different Keras functionalities\n",
    "import tensorflow as tf\n",
    "from tensorflow import keras\n",
    "from keras.constraints import maxnorm\n",
    "from keras.utils import np_utils\n",
    "#from tensorflow.keras.optimizers import SGD,Adagrad\n",
    "from keras.optimizers import SGD,Adagrad\n",
    "from keras.callbacks import ModelCheckpoint,EarlyStopping\n",
    "from keras import backend as K\n",
    "#from keras.applications import ResNet50,Xception,VGG16,VGG19\n",
    "from sklearn.model_selection import train_test_split\n",
    "\n",
    "from plotcm import plotcm\n",
    "\n",
    "####\n",
    "# Where to save the figures\n",
    "IMAGES_PATH = \"../images\"\n",
    "os.makedirs(IMAGES_PATH, exist_ok=True)\n",
    "\n",
    "def save_fig(fig_id, tight_layout=True, fig_extension=\"png\", resolution=300):\n",
    "    path = os.path.join(IMAGES_PATH, fig_id + \".\" + fig_extension)\n",
    "    print(\"Saving figure\", fig_id)\n",
    "    if tight_layout:\n",
    "        plt.tight_layout()\n",
    "    plt.savefig(path, format=fig_extension, dpi=resolution)\n",
    "from utils import saveFigures,write_json,create_json,load_previous_weights\n",
    "\n",
    "from models import VGG16, MLP_model"
   ]
  },
  {
   "cell_type": "markdown",
   "metadata": {},
   "source": [
    "# Load data"
   ]
  },
  {
   "cell_type": "code",
   "execution_count": null,
   "metadata": {},
   "outputs": [],
   "source": [
    "cifar10 = keras.datasets.cifar10\n",
    "(X_train_full, y_train_full), (X_test, y_test) = cifar10.load_data()\n",
    "\n",
    "X_train, X_valid, y_train, y_valid = train_test_split(X_train_full, y_train_full, test_size=0.2, random_state=1)\n",
    "\n",
    "X_train = X_train/255.\n",
    "X_valid = X_valid/255.\n",
    "X_test = X_test/255.\n",
    "\n",
    "y_train = np_utils.to_categorical(y_train)\n",
    "y_valid = np_utils.to_categorical(y_valid)\n",
    "y_test = np_utils.to_categorical(y_test)\n",
    "\n",
    "num_classes = y_test.shape[1]\n",
    "class_names = [\"airplane\",\"automobile\",\"bird\",\"cat\",\"deer\",\"dog\",\"frog\",\"horse\",\"ship\",\"truck\"]\n",
    "\n",
    "print(\"num_training_samples: \", X_train.shape)"
   ]
  },
  {
   "cell_type": "markdown",
   "metadata": {},
   "source": [
    "# Configuration parameters\n",
    "Configuration values of different parts of the solution. You should change some of them to obtain better results."
   ]
  },
  {
   "cell_type": "code",
   "execution_count": null,
   "metadata": {},
   "outputs": [],
   "source": [
    "from datetime import datetime\n",
    "# Randomize the initial network \n",
    "keras.backend.clear_session()\n",
    "np.random.seed(42)\n",
    "tf.random.set_seed(42)\n",
    "\n",
    "\n",
    "# Directory where to store weights of the model and results\n",
    "now = datetime.now()\n",
    "current_time = now.strftime(\"%d_%H_%M_%S\")\n",
    "experiment_rootdir = \"./test/\"+current_time+\"/\"\n",
    "weights_path = experiment_rootdir +\"weights.h5\"\n",
    "weights_best_path = experiment_rootdir +\"weights_best.h5\"\n",
    "json_path = experiment_rootdir +\"experiment.json\"\n",
    "\n",
    "# Create experiment directory if it does not exists\n",
    "if not os.path.exists(experiment_rootdir):\n",
    "    os.makedirs(experiment_rootdir)\n",
    "print(experiment_rootdir)"
   ]
  },
  {
   "cell_type": "code",
   "execution_count": null,
   "metadata": {},
   "outputs": [],
   "source": [
    "# Parameters that configures the training process\n",
    "\n",
    "# Tunable parameters\n",
    "name_model = \"MLP-10layers\"\n",
    "initial_lr = 5e-2\n",
    "\n",
    "l2_reg = 0.0\n",
    "dropout = 0.0\n",
    "\n",
    "compile_parameters = { \"metrics\": ['accuracy'], \"optimizer\": SGD(learning_rate=initial_lr)}\n",
    "\n",
    "# TODO\n",
    "\n",
    "\n",
    "## Constant parameters\n",
    "batch_size = 512 \n",
    "epochs = 200\n",
    "initial_epoch = 0 \n",
    "num_classes = 10\n",
    "dropout = 0.5\n",
    "\n",
    "checkpoint_cb = ModelCheckpoint(weights_best_path,save_best_only=True)\n",
    "early_stopping_cb = EarlyStopping(patience=25,restore_best_weights=True)\n",
    "'''\n",
    "optimizer=  = keras.optimizers.SGD(learning_rate=0.001, momentum=0.9)\n",
    "optimizer = keras.optimizers.SGD(learning_rate=0.001, momentum=0.9, nesterov=True)\n",
    "optimizer = keras.optimizers.Adagrad(learning_rate=0.001)\n",
    "optimizer = keras.optimizers.RMSprop(learning_rate=0.001, rho=0.9)\n",
    "optimizer = keras.optimizers.Adam(learning_rate=0.001, beta_1=0.9, beta_2=0.999)\n",
    "optimizer = keras.optimizers.Adamax(learning_rate=0.001, beta_1=0.9, beta_2=0.999)\n",
    "optimizer = keras.optimizers.Nadam(learning_rate=0.001, beta_1=0.9, beta_2=0.999)\n",
    "'''\n",
    "\n",
    "parameters = {\n",
    "    \"name_model\":name_model,\n",
    "    \"compile_parameters\" :str(compile_parameters) ,\n",
    "    \"batch_size\": batch_size,\n",
    "    \"epochs\": epochs, \n",
    "    \"initial_epoch\":initial_epoch, \n",
    "    \"initial_lr\": initial_lr,\n",
    "    \"num_classes\": num_classes,\n",
    "    \"dropout\": dropout\n",
    "\n",
    "}\n",
    "create_json({\"parameters\":parameters}, json_path)\n"
   ]
  },
  {
   "cell_type": "code",
   "execution_count": null,
   "metadata": {},
   "outputs": [],
   "source": [
    "def trainModel(model,compile_parameters,X_train, y_train, validation_data, epochs, batch_size, experiment_rootdir, weights_path, json_path):\n",
    "    model.compile(loss='categorical_crossentropy', optimizer=compile_parameters['optimizer'], metrics=compile_parameters['metrics'])\n",
    "    print(model.summary())\n",
    "    history = model.fit(x= X_train, y= y_train, validation_data = validation_data, epochs = epochs, batch_size= batch_size,callbacks=[checkpoint_cb, early_stopping_cb])\n",
    "    model.save_weights(weights_path)\n",
    "    hist_df = pd.DataFrame(history.history) \n",
    "    data = {\"train_result2\":hist_df.to_dict()}\n",
    "    write_json(data,json_path)\n",
    "    return history"
   ]
  },
  {
   "cell_type": "markdown",
   "metadata": {},
   "source": [
    "# Training "
   ]
  },
  {
   "cell_type": "code",
   "execution_count": null,
   "metadata": {
    "scrolled": true
   },
   "outputs": [],
   "source": [
    "#Get model\n",
    "model = MLP_model(n_hidden=10, num_classes=10, img_width=32, img_height=32, img_channels=3,l2_reg=0)\n",
    "#model = VGG16(dropout=0.5, num_classes=10, img_width=32, img_height=32, img_channels=3,l2_reg=0)\n",
    "\n",
    "#load weights\n",
    "load_previous_weights(model,weights_path)\n",
    "\n",
    "#training model\n",
    "val = (X_valid, y_valid)\n",
    "\n",
    "history =trainModel(model,compile_parameters,X_train, y_train,val, epochs, batch_size,experiment_rootdir,weights_path,json_path)\n",
    "\n",
    "saveFigures(experiment_rootdir, history, \"accuracy\", \"loss\")"
   ]
  },
  {
   "cell_type": "markdown",
   "metadata": {},
   "source": [
    "# Testing"
   ]
  },
  {
   "cell_type": "code",
   "execution_count": null,
   "metadata": {},
   "outputs": [],
   "source": [
    "y_pred = np.argmax(model.predict(X_test), axis=1)\n",
    "gt = np.argmax(y_test, axis=1)\n",
    "\n",
    "# Evaluate predictions: Average accuracy and highest errors\n",
    "print(\"-----------------------------------------------\")\n",
    "print(\"Evaluation:\")\n",
    "# Compute average accuracy\n",
    "ave_accuracy = metrics.accuracy_score(gt, y_pred)\n",
    "print('Average accuracy = ', ave_accuracy)\n",
    "print(\"-----------------------------------------------\")\n",
    "\n",
    "# Visualize confusion matrix                                           \n",
    "plotcm(experiment_rootdir, gt, y_pred,class_names, experiment_rootdir, normalize=True)\n",
    "\n",
    "data = {\"test_accuracy\":ave_accuracy}\n",
    "write_json(data,json_path)\n",
    "\n"
   ]
  }
 ],
 "metadata": {
  "kernelspec": {
   "display_name": "Python 3 (ipykernel)",
   "language": "python",
   "name": "python3"
  },
  "language_info": {
   "codemirror_mode": {
    "name": "ipython",
    "version": 3
   },
   "file_extension": ".py",
   "mimetype": "text/x-python",
   "name": "python",
   "nbconvert_exporter": "python",
   "pygments_lexer": "ipython3",
   "version": "3.7.7"
  }
 },
 "nbformat": 4,
 "nbformat_minor": 4
}
