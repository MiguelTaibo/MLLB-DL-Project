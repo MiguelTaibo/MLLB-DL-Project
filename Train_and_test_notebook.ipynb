{
 "cells": [
  {
   "cell_type": "markdown",
   "metadata": {},
   "source": [
    "# Check GPU options"
   ]
  },
  {
   "cell_type": "code",
   "execution_count": 40,
   "metadata": {},
   "outputs": [
    {
     "name": "stdout",
     "output_type": "stream",
     "text": [
      "[name: \"/device:CPU:0\"\n",
      "device_type: \"CPU\"\n",
      "memory_limit: 268435456\n",
      "locality {\n",
      "}\n",
      "incarnation: 11879792770688691534\n",
      ", name: \"/device:GPU:0\"\n",
      "device_type: \"GPU\"\n",
      "memory_limit: 5077532672\n",
      "locality {\n",
      "  bus_id: 1\n",
      "  links {\n",
      "  }\n",
      "}\n",
      "incarnation: 7158355653796946406\n",
      "physical_device_desc: \"device: 0, name: NVIDIA GeForce GTX 1060 6GB, pci bus id: 0000:01:00.0, compute capability: 6.1\"\n",
      "]\n"
     ]
    }
   ],
   "source": [
    "from tensorflow.python.client import device_lib\n",
    "print(device_lib.list_local_devices())"
   ]
  },
  {
   "cell_type": "markdown",
   "metadata": {},
   "source": [
    "# Import needed libraries"
   ]
  },
  {
   "cell_type": "code",
   "execution_count": 41,
   "metadata": {},
   "outputs": [],
   "source": [
    "# Import general purpose python libraries\n",
    "import os\n",
    "from matplotlib import pyplot\n",
    "from PIL import Image # For handling the images\n",
    "import numpy as np\n",
    "from sklearn import metrics\n",
    "import pandas as pd\n",
    "# Import different Keras functionalities\n",
    "import tensorflow as tf\n",
    "from tensorflow import keras\n",
    "from keras.constraints import maxnorm\n",
    "from keras.utils import np_utils\n",
    "#from tensorflow.keras.optimizers import SGD,Adagrad\n",
    "from keras.optimizers import SGD,Adagrad\n",
    "from keras.callbacks import ModelCheckpoint,EarlyStopping\n",
    "from keras import backend as K\n",
    "#from keras.applications import ResNet50,Xception,VGG16,VGG19\n",
    "from sklearn.model_selection import train_test_split\n",
    "from keras.preprocessing.image import ImageDataGenerator\n",
    "from plotcm import plotcm\n",
    "\n",
    "####\n",
    "# Where to save the figures\n",
    "IMAGES_PATH = \"../images\"\n",
    "os.makedirs(IMAGES_PATH, exist_ok=True)\n",
    "\n",
    "def save_fig(fig_id, tight_layout=True, fig_extension=\"png\", resolution=300):\n",
    "    path = os.path.join(IMAGES_PATH, fig_id + \".\" + fig_extension)\n",
    "    print(\"Saving figure\", fig_id)\n",
    "    if tight_layout:\n",
    "        pyplot.tight_layout()\n",
    "    pyplot.savefig(path, format=fig_extension, dpi=resolution)\n",
    "from utils import saveFigures,write_json,create_json,load_previous_weights\n",
    "\n",
    "from models import VGG16, MLP_model,VGG19"
   ]
  },
  {
   "cell_type": "code",
   "execution_count": 42,
   "metadata": {},
   "outputs": [],
   "source": [
    "config = tf.compat.v1.ConfigProto()\n",
    "## ask for GPU memory gracefully\n",
    "config.gpu_options.allow_growth = True\n",
    "\n",
    "sess = tf.compat.v1.Session(config=config)\n",
    "\n",
    "tf.compat.v1.keras.backend.set_session(sess)"
   ]
  },
  {
   "cell_type": "markdown",
   "metadata": {},
   "source": [
    "# Load data"
   ]
  },
  {
   "cell_type": "code",
   "execution_count": 43,
   "metadata": {},
   "outputs": [
    {
     "name": "stdout",
     "output_type": "stream",
     "text": [
      "num_training_samples:  (40000, 32, 32, 3)\n"
     ]
    }
   ],
   "source": [
    "cifar10 = keras.datasets.cifar10\n",
    "(X_train_full, y_train_full), (X_test, y_test) = cifar10.load_data()\n",
    "\n",
    "X_train, X_valid, y_train, y_valid = train_test_split(X_train_full, y_train_full, test_size=0.2, random_state=1)\n",
    "\n",
    "X_train = X_train/255.\n",
    "X_valid = X_valid/255.\n",
    "X_test = X_test/255.\n",
    "\n",
    "y_train = np_utils.to_categorical(y_train)\n",
    "y_valid = np_utils.to_categorical(y_valid)\n",
    "y_test = np_utils.to_categorical(y_test)\n",
    "\n",
    "num_classes = y_test.shape[1]\n",
    "class_names = [\"airplane\",\"automobile\",\"bird\",\"cat\",\"deer\",\"dog\",\"frog\",\"horse\",\"ship\",\"truck\"]\n",
    "\n",
    "print(\"num_training_samples: \", X_train.shape)"
   ]
  },
  {
   "cell_type": "markdown",
   "metadata": {},
   "source": [
    "# Configuration parameters\n",
    "Configuration values of different parts of the solution. You should change some of them to obtain better results."
   ]
  },
  {
   "cell_type": "code",
   "execution_count": 44,
   "metadata": {},
   "outputs": [
    {
     "name": "stdout",
     "output_type": "stream",
     "text": [
      "./test/10_14_12_57/\n"
     ]
    }
   ],
   "source": [
    "from datetime import datetime\n",
    "# Randomize the initial network \n",
    "keras.backend.clear_session()\n",
    "np.random.seed(42)\n",
    "tf.random.set_seed(42)\n",
    "\n",
    "\n",
    "# Directory where to store weights of the model and results\n",
    "now = datetime.now()\n",
    "current_time = now.strftime(\"%d_%H_%M_%S\")\n",
    "experiment_rootdir = \"./test/\"+current_time+\"/\"\n",
    "weights_path = experiment_rootdir +\"weights.h5\"\n",
    "weights_best_path = experiment_rootdir +\"weights_best.h5\"\n",
    "weights_augmentation_path = experiment_rootdir +\"weights_augmentation.h5\"\n",
    "weights_augmentation_best_path = experiment_rootdir +\"weights_augmentation_best.h5\"\n",
    "json_path = experiment_rootdir +\"experiment.json\"\n",
    "\n",
    "# Create experiment directory if it does not exists\n",
    "if not os.path.exists(experiment_rootdir):\n",
    "    os.makedirs(experiment_rootdir)\n",
    "print(experiment_rootdir)"
   ]
  },
  {
   "cell_type": "code",
   "execution_count": 45,
   "metadata": {},
   "outputs": [],
   "source": [
    "# Parameters that configures the training process\n",
    "\n",
    "# Tunable parameters\n",
    "name_model = \"VGG19_l2_reg_5e-3\"\n",
    "initial_lr = 5e-2\n",
    "n_hidden = None\n",
    "\n",
    "## Regularizarion\n",
    "l2_reg = 5e-3\n",
    "dropout = 0\n",
    "batch_norm = False\n",
    "data_augmentation = False\n",
    "\n",
    "# Constant parameters\n",
    "compile_parameters = { \"metrics\": ['accuracy'], \"optimizer\": SGD(learning_rate=initial_lr)}\n",
    "\n",
    "batch_size = 512 \n",
    "epochs = 200\n",
    "initial_epoch = 0 \n",
    "num_classes = 10\n",
    "\n",
    "checkpoint_cb = ModelCheckpoint(weights_best_path,save_best_only=True)\n",
    "early_stopping_cb = EarlyStopping(patience=25,restore_best_weights=True)\n",
    "'''\n",
    "optimizer=  = keras.optimizers.SGD(learning_rate=0.001, momentum=0.9)\n",
    "optimizer = keras.optimizers.SGD(learning_rate=0.001, momentum=0.9, nesterov=True)\n",
    "optimizer = keras.optimizers.Adagrad(learning_rate=0.001)\n",
    "optimizer = keras.optimizers.RMSprop(learning_rate=0.001, rho=0.9)\n",
    "optimizer = keras.optimizers.Adam(learning_rate=0.001, beta_1=0.9, beta_2=0.999)\n",
    "optimizer = keras.optimizers.Adamax(learning_rate=0.001, beta_1=0.9, beta_2=0.999)\n",
    "optimizer = keras.optimizers.Nadam(learning_rate=0.001, beta_1=0.9, beta_2=0.999)\n",
    "'''\n",
    "\n",
    "parameters = {\n",
    "    \"name_model\":name_model,\n",
    "    \"compile_parameters\" :str(compile_parameters) ,\n",
    "    \"l2_reg\" : l2_reg,\n",
    "    \"batch_size\": batch_size,\n",
    "    \"epochs\": epochs, \n",
    "    \"initial_epoch\":initial_epoch, \n",
    "    \"initial_lr\": initial_lr,\n",
    "    \"num_classes\": num_classes,\n",
    "    \"dropout\": dropout,\n",
    "    \"batch_norm\": batch_norm,\n",
    "    \"data_aug\" : data_augmentation\n",
    "}\n",
    "create_json({\"parameters\":parameters}, json_path)\n"
   ]
  },
  {
   "cell_type": "code",
   "execution_count": 46,
   "metadata": {},
   "outputs": [],
   "source": [
    "def trainModel(model,compile_parameters,X_train, y_train, validation_data, epochs, batch_size, experiment_rootdir, weights_path, json_path,datagen, callbacks,name=''):\n",
    "\n",
    "    model.compile(loss='categorical_crossentropy', optimizer=compile_parameters['optimizer'], metrics=compile_parameters['metrics'])\n",
    "    print(model.summary())\n",
    "\n",
    "    history=model.fit_generator(datagen.flow(X_train, y_train, batch_size=batch_size),\n",
    "                steps_per_epoch = (len(X_train)//batch_size), epochs=epochs, \n",
    "                validation_data=validation_data,\n",
    "                validation_steps=(len(X_train)*0.2//batch_size),\n",
    "                callbacks = callbacks)\n",
    "    hist_df = pd.DataFrame(history.history) \n",
    "    weights_path\n",
    "    data = {\"train_result\"+name:hist_df.to_dict()}\n",
    "    \n",
    "    model.save_weights(weights_path)\n",
    "    write_json(data,json_path)\n",
    "    return history"
   ]
  },
  {
   "cell_type": "markdown",
   "metadata": {},
   "source": [
    "# Training "
   ]
  },
  {
   "cell_type": "code",
   "execution_count": 47,
   "metadata": {},
   "outputs": [],
   "source": [
    "# Data augmentation\n",
    "# set up image augmentation\n",
    "rotation_range=45\n",
    "horizontal_flip=True\n",
    "zoom_range=0.3\n",
    "datagen = ImageDataGenerator(\n",
    "    rotation_range=rotation_range if data_augmentation else 0,\n",
    "    horizontal_flip=horizontal_flip if data_augmentation else 0,\n",
    "    zoom_range=zoom_range if data_augmentation else 0)\n",
    " \n",
    "# datagen.fit(X_train)\n",
    "# for X_batch, y_batch in datagen.flow(X_train, y_train, batch_size=4, seed=499):\n",
    "#   print (X_batch.shape)\n",
    "#   for i in range(0,4):\n",
    "#     pyplot.subplot(220 +1 +i)\n",
    "#     pyplot.imshow(X_batch[i])\n",
    "#   pyplot.show()\n",
    "#   break\n",
    "# train with image augmentation\n",
    "\n",
    "augmentation_parameters = {\n",
    "    \"used\": str(data_augmentation),\n",
    "    \"rotation_range\":str(rotation_range),\n",
    "    \"horizontal_flip\":str(horizontal_flip),\n",
    "    \"zoom_range\":str(zoom_range)\n",
    "}\n",
    "write_json({\"augmentation_parameters\":augmentation_parameters}, json_path)"
   ]
  },
  {
   "cell_type": "code",
   "execution_count": 37,
   "metadata": {},
   "outputs": [
    {
     "name": "stdout",
     "output_type": "stream",
     "text": [
      "Impossible to find weight path. Returning untrained model\n",
      "Model: \"model_1\"\n",
      "_________________________________________________________________\n",
      "Layer (type)                 Output Shape              Param #   \n",
      "=================================================================\n",
      "input_1 (InputLayer)         (None, 32, 32, 3)         0         \n",
      "_________________________________________________________________\n",
      "conv2d_1 (Conv2D)            (None, 32, 32, 64)        1792      \n",
      "_________________________________________________________________\n",
      "conv2d_2 (Conv2D)            (None, 32, 32, 64)        36928     \n",
      "_________________________________________________________________\n",
      "max_pooling2d_1 (MaxPooling2 (None, 16, 16, 64)        0         \n",
      "_________________________________________________________________\n",
      "conv2d_3 (Conv2D)            (None, 16, 16, 128)       73856     \n",
      "_________________________________________________________________\n",
      "conv2d_4 (Conv2D)            (None, 16, 16, 128)       147584    \n",
      "_________________________________________________________________\n",
      "max_pooling2d_2 (MaxPooling2 (None, 8, 8, 128)         0         \n",
      "_________________________________________________________________\n",
      "conv2d_5 (Conv2D)            (None, 8, 8, 256)         295168    \n",
      "_________________________________________________________________\n",
      "conv2d_6 (Conv2D)            (None, 8, 8, 256)         590080    \n",
      "_________________________________________________________________\n",
      "conv2d_7 (Conv2D)            (None, 8, 8, 256)         590080    \n",
      "_________________________________________________________________\n",
      "conv2d_8 (Conv2D)            (None, 8, 8, 256)         590080    \n",
      "_________________________________________________________________\n",
      "max_pooling2d_3 (MaxPooling2 (None, 4, 4, 256)         0         \n",
      "_________________________________________________________________\n",
      "conv2d_9 (Conv2D)            (None, 4, 4, 512)         1180160   \n",
      "_________________________________________________________________\n",
      "conv2d_10 (Conv2D)           (None, 4, 4, 512)         2359808   \n",
      "_________________________________________________________________\n",
      "conv2d_11 (Conv2D)           (None, 4, 4, 512)         2359808   \n",
      "_________________________________________________________________\n",
      "conv2d_12 (Conv2D)           (None, 4, 4, 512)         2359808   \n",
      "_________________________________________________________________\n",
      "max_pooling2d_4 (MaxPooling2 (None, 2, 2, 512)         0         \n",
      "_________________________________________________________________\n",
      "conv2d_13 (Conv2D)           (None, 2, 2, 512)         2359808   \n",
      "_________________________________________________________________\n",
      "conv2d_14 (Conv2D)           (None, 2, 2, 512)         2359808   \n",
      "_________________________________________________________________\n",
      "conv2d_15 (Conv2D)           (None, 2, 2, 512)         2359808   \n",
      "_________________________________________________________________\n",
      "conv2d_16 (Conv2D)           (None, 2, 2, 512)         2359808   \n",
      "_________________________________________________________________\n",
      "max_pooling2d_5 (MaxPooling2 (None, 1, 1, 512)         0         \n",
      "_________________________________________________________________\n",
      "flatten_1 (Flatten)          (None, 512)               0         \n",
      "_________________________________________________________________\n",
      "dropout_1 (Dropout)          (None, 512)               0         \n",
      "_________________________________________________________________\n",
      "dense_1 (Dense)              (None, 512)               262656    \n",
      "_________________________________________________________________\n",
      "dropout_2 (Dropout)          (None, 512)               0         \n",
      "_________________________________________________________________\n",
      "dense_2 (Dense)              (None, 512)               262656    \n",
      "_________________________________________________________________\n",
      "dropout_3 (Dropout)          (None, 512)               0         \n",
      "_________________________________________________________________\n",
      "dense_3 (Dense)              (None, 10)                5130      \n",
      "=================================================================\n",
      "Total params: 20,554,826\n",
      "Trainable params: 20,554,826\n",
      "Non-trainable params: 0\n",
      "_________________________________________________________________\n",
      "None\n",
      "Epoch 1/200\n",
      "78/78 [==============================] - 79s 1s/step - loss: 31.9988 - accuracy: 0.0963 - val_loss: 30.8408 - val_accuracy: 0.0956\n",
      "Epoch 2/200\n",
      "78/78 [==============================] - 77s 984ms/step - loss: 29.7699 - accuracy: 0.0994 - val_loss: 28.6991 - val_accuracy: 0.1007\n",
      "Epoch 3/200\n",
      "78/78 [==============================] - 77s 984ms/step - loss: 27.7084 - accuracy: 0.0997 - val_loss: 26.7177 - val_accuracy: 0.0965\n",
      "Epoch 4/200\n",
      "78/78 [==============================] - 77s 985ms/step - loss: 25.8015 - accuracy: 0.0981 - val_loss: 24.8853 - val_accuracy: 0.0933\n",
      "Epoch 5/200\n",
      "78/78 [==============================] - 77s 987ms/step - loss: 24.0377 - accuracy: 0.1001 - val_loss: 23.1904 - val_accuracy: 0.0965\n",
      "Epoch 6/200\n",
      "78/78 [==============================] - 77s 985ms/step - loss: 22.4063 - accuracy: 0.0998 - val_loss: 21.6232 - val_accuracy: 0.0984\n",
      "Epoch 7/200\n",
      "78/78 [==============================] - 77s 986ms/step - loss: 20.8974 - accuracy: 0.0991 - val_loss: 20.1726 - val_accuracy: 0.0988\n",
      "Epoch 8/200\n",
      "78/78 [==============================] - 77s 984ms/step - loss: 19.5017 - accuracy: 0.0991 - val_loss: 18.8310 - val_accuracy: 0.0981\n",
      "Epoch 9/200\n",
      "78/78 [==============================] - 76s 969ms/step - loss: 18.2108 - accuracy: 0.0976 - val_loss: 17.5909 - val_accuracy: 0.1009\n",
      "Epoch 10/200\n",
      "78/78 [==============================] - 76s 968ms/step - loss: 17.0168 - accuracy: 0.0966 - val_loss: 16.4430 - val_accuracy: 0.1047\n",
      "Epoch 11/200\n",
      "78/78 [==============================] - 76s 968ms/step - loss: 15.9123 - accuracy: 0.1007 - val_loss: 15.3815 - val_accuracy: 0.0983\n",
      "Epoch 12/200\n",
      "78/78 [==============================] - 76s 968ms/step - loss: 14.8908 - accuracy: 0.0984 - val_loss: 14.4000 - val_accuracy: 0.0981\n",
      "Epoch 13/200\n",
      "78/78 [==============================] - 76s 969ms/step - loss: 13.9460 - accuracy: 0.0989 - val_loss: 13.4924 - val_accuracy: 0.0988\n",
      "Epoch 14/200\n",
      "78/78 [==============================] - 78s 1s/step - loss: 13.0720 - accuracy: 0.0984 - val_loss: 12.6521 - val_accuracy: 0.0997\n",
      "Epoch 15/200\n",
      "78/78 [==============================] - 76s 977ms/step - loss: 12.2636 - accuracy: 0.1004 - val_loss: 11.8760 - val_accuracy: 0.0962\n",
      "Epoch 16/200\n",
      "78/78 [==============================] - 77s 985ms/step - loss: 11.5160 - accuracy: 0.0987 - val_loss: 11.1573 - val_accuracy: 0.0966\n",
      "Epoch 17/200\n",
      "78/78 [==============================] - 77s 986ms/step - loss: 10.8245 - accuracy: 0.0970 - val_loss: 10.4921 - val_accuracy: 0.0979\n",
      "Epoch 18/200\n",
      "78/78 [==============================] - 77s 985ms/step - loss: 10.1848 - accuracy: 0.1003 - val_loss: 9.8776 - val_accuracy: 0.1000\n",
      "Epoch 19/200\n",
      "78/78 [==============================] - 77s 993ms/step - loss: 9.5932 - accuracy: 0.0980 - val_loss: 9.3089 - val_accuracy: 0.0942\n",
      "Epoch 20/200\n",
      "78/78 [==============================] - 77s 986ms/step - loss: 9.0459 - accuracy: 0.0999 - val_loss: 8.7834 - val_accuracy: 0.1023\n",
      "Epoch 21/200\n",
      "78/78 [==============================] - 76s 978ms/step - loss: 8.5399 - accuracy: 0.0982 - val_loss: 8.2969 - val_accuracy: 0.0991\n",
      "Epoch 22/200\n",
      "78/78 [==============================] - 77s 984ms/step - loss: 8.0717 - accuracy: 0.1012 - val_loss: 7.8468 - val_accuracy: 0.0984\n",
      "Epoch 23/200\n",
      "78/78 [==============================] - 75s 959ms/step - loss: 7.6386 - accuracy: 0.1007 - val_loss: 7.4307 - val_accuracy: 0.0954\n",
      "Epoch 24/200\n",
      "78/78 [==============================] - 76s 977ms/step - loss: 7.2382 - accuracy: 0.0981 - val_loss: 7.0457 - val_accuracy: 0.0983\n",
      "Epoch 25/200\n",
      "78/78 [==============================] - 75s 961ms/step - loss: 6.8677 - accuracy: 0.1008 - val_loss: 6.6900 - val_accuracy: 0.0986\n",
      "Epoch 26/200\n",
      "78/78 [==============================] - 76s 976ms/step - loss: 6.5251 - accuracy: 0.0994 - val_loss: 6.3605 - val_accuracy: 0.0996\n",
      "Epoch 27/200\n",
      "78/78 [==============================] - 75s 968ms/step - loss: 6.2081 - accuracy: 0.1008 - val_loss: 6.0556 - val_accuracy: 0.0983\n",
      "Epoch 28/200\n",
      "78/78 [==============================] - 75s 960ms/step - loss: 5.9150 - accuracy: 0.1003 - val_loss: 5.7743 - val_accuracy: 0.0980\n",
      "Epoch 29/200\n",
      "78/78 [==============================] - 76s 977ms/step - loss: 5.6438 - accuracy: 0.1003 - val_loss: 5.5139 - val_accuracy: 0.0971\n",
      "Epoch 30/200\n",
      "78/78 [==============================] - 77s 985ms/step - loss: 5.3930 - accuracy: 0.0997 - val_loss: 5.2724 - val_accuracy: 0.0957\n",
      "Epoch 31/200\n",
      "78/78 [==============================] - 78s 995ms/step - loss: 5.1611 - accuracy: 0.1005 - val_loss: 5.0498 - val_accuracy: 0.0989\n",
      "Epoch 32/200\n",
      "78/78 [==============================] - 77s 985ms/step - loss: 4.9465 - accuracy: 0.1002 - val_loss: 4.8435 - val_accuracy: 0.0991\n",
      "Epoch 33/200\n",
      "78/78 [==============================] - 76s 977ms/step - loss: 4.7480 - accuracy: 0.0985 - val_loss: 4.6519 - val_accuracy: 0.0967\n",
      "Epoch 34/200\n",
      "78/78 [==============================] - 77s 986ms/step - loss: 4.5645 - accuracy: 0.0974 - val_loss: 4.4764 - val_accuracy: 0.1034\n",
      "Epoch 35/200\n",
      "78/78 [==============================] - 77s 985ms/step - loss: 4.3947 - accuracy: 0.0967 - val_loss: 4.3130 - val_accuracy: 0.1027\n"
     ]
    },
    {
     "data": {
      "text/plain": [
       "<Figure size 432x288 with 0 Axes>"
      ]
     },
     "metadata": {},
     "output_type": "display_data"
    }
   ],
   "source": [
    "#Get model\n",
    "#model = MLP_model(dropout, num_classes=10, img_width=32, img_height=32, img_channels=3,l2_reg= l2_reg,n_hidden=n_hidden, batch_norm=batch_norm)\n",
    "model = VGG19(dropout, num_classes=10, img_width=32, img_height=32, img_channels=3,l2_reg=l2_reg,batch_norm = batch_norm)\n",
    "\n",
    "#load weights\n",
    "load_previous_weights(model,weights_best_path)\n",
    "\n",
    "checkpoint_cb = ModelCheckpoint(weights_best_path,save_best_only=True)\n",
    "early_stopping_cb = EarlyStopping(patience=25,restore_best_weights=True, monitor=\"val_accuracy\")\n",
    "\n",
    "#training model\n",
    "val = ImageDataGenerator().flow(X_valid, y_valid, batch_size=batch_size)\n",
    "#val =(X_valid, y_valid)\n",
    "history = trainModel(model,compile_parameters,X_train, y_train, val, epochs, batch_size,experiment_rootdir,weights_path,json_path,ImageDataGenerator(), [checkpoint_cb,early_stopping_cb])\n",
    "saveFigures(experiment_rootdir, history, \"accuracy\", \"loss\")\n",
    "if data_augmentation ==True:\n",
    "    #load weights\n",
    "    load_previous_weights(model,weights_best_path)\n",
    "\n",
    "    checkpoint_cb = ModelCheckpoint(weights_augmentation_best_path,save_best_only=True)\n",
    "    early_stopping_cb = EarlyStopping(patience=25,restore_best_weights=True, monitor=\"val_accuracy\")\n",
    "\n",
    "    #training model\n",
    "    val = datagen.flow(X_valid, y_valid, batch_size=batch_size)\n",
    "    #val =(X_valid, y_valid)\n",
    "    \n",
    "    history = trainModel(model,compile_parameters,X_train, y_train, val, epochs, batch_size,experiment_rootdir,weights_augmentation_path,json_path,datagen, [checkpoint_cb,early_stopping_cb],\"_augmentation\")\n",
    "    saveFigures(experiment_rootdir, history, \"accuracy_augmentation\", \"loss_augmentation\")"
   ]
  },
  {
   "cell_type": "markdown",
   "metadata": {},
   "source": [
    "# Testing"
   ]
  },
  {
   "cell_type": "code",
   "execution_count": 38,
   "metadata": {},
   "outputs": [
    {
     "name": "stdout",
     "output_type": "stream",
     "text": [
      "-----------------------------------------------\n",
      "Evaluation:\n",
      "Average accuracy =  0.1\n",
      "-----------------------------------------------\n"
     ]
    },
    {
     "data": {
      "image/png": "[encoded data removed]",
      "text/plain": [
       "<Figure size 432x288 with 2 Axes>"
      ]
     },
     "metadata": {
      "needs_background": "light"
     },
     "output_type": "display_data"
    }
   ],
   "source": [
    "y_pred = np.argmax(model.predict(X_test), axis=1)\n",
    "gt = np.argmax(y_test, axis=1)\n",
    "\n",
    "# Evaluate predictions: Average accuracy and highest errors\n",
    "print(\"-----------------------------------------------\")\n",
    "print(\"Evaluation:\")\n",
    "# Compute average accuracy\n",
    "ave_accuracy = metrics.accuracy_score(gt, y_pred)\n",
    "print('Average accuracy = ', ave_accuracy)\n",
    "print(\"-----------------------------------------------\")\n",
    "\n",
    "# Visualize confusion matrix                                           \n",
    "plotcm(experiment_rootdir, gt, y_pred,class_names, experiment_rootdir, normalize=True)\n",
    "\n",
    "data = {\"test_accuracy\":ave_accuracy}\n",
    "write_json(data,json_path)\n",
    "\n"
   ]
  },
  {
   "cell_type": "code",
   "execution_count": 39,
   "metadata": {},
   "outputs": [],
   "source": [
    "#pip install playsound\n",
    "\n",
    "#from playsound import playsound\n",
    "#playsound('./sonido_fin.mp3')"
   ]
  }
 ],
 "metadata": {
  "kernelspec": {
   "display_name": "Python 3 (ipykernel)",
   "language": "python",
   "name": "python3"
  },
  "language_info": {
   "codemirror_mode": {
    "name": "ipython",
    "version": 3
   },
   "file_extension": ".py",
   "mimetype": "text/x-python",
   "name": "python",
   "nbconvert_exporter": "python",
   "pygments_lexer": "ipython3",
   "version": "3.7.7"
  }
 },
 "nbformat": 4,
 "nbformat_minor": 4
}
