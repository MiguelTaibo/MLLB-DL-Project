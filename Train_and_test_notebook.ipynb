{
 "cells": [
  {
   "cell_type": "markdown",
   "metadata": {},
   "source": [
    "# Check GPU options"
   ]
  },
  {
   "cell_type": "code",
   "execution_count": null,
   "metadata": {},
   "outputs": [],
   "source": [
    "from tensorflow.python.client import device_lib\n",
    "print(device_lib.list_local_devices())"
   ]
  },
  {
   "cell_type": "markdown",
   "metadata": {},
   "source": [
    "# Import needed libraries"
   ]
  },
  {
   "cell_type": "code",
   "execution_count": null,
   "metadata": {},
   "outputs": [],
   "source": [
    "# Import general purpose python libraries\n",
    "import os\n",
    "\n",
    "from PIL import Image # For handling the images\n",
    "import numpy as np\n",
    "from sklearn import metrics\n",
    "import pandas as pd\n",
    "# Import different Keras functionalities\n",
    "import tensorflow as tf\n",
    "from tensorflow import keras\n",
    "from keras.constraints import maxnorm\n",
    "from keras.utils import np_utils\n",
    "#from tensorflow.keras.optimizers import SGD,Adagrad\n",
    "from keras.optimizers import SGD,Adagrad\n",
    "from keras.callbacks import ModelCheckpoint,EarlyStopping\n",
    "from keras import backend as K\n",
    "#from keras.applications import ResNet50,Xception,VGG16,VGG19\n",
    "from sklearn.model_selection import train_test_split\n",
    "from keras.preprocessing.image import ImageDataGenerator\n",
    "\n",
    "\n",
    "####\n",
    "# Where to save the figures\n",
    "IMAGES_PATH = \"../images\"\n",
    "os.makedirs(IMAGES_PATH, exist_ok=True)\n",
    "from utils import saveFigures,write_json,create_json,load_previous_weights,plotcm,save_fig\n",
    "from models import VGG16, MLP_model,VGG19,Transfer_model,ResNet21,ResNet25"
   ]
  },
  {
   "cell_type": "code",
   "execution_count": null,
   "metadata": {},
   "outputs": [],
   "source": [
    "config = tf.compat.v1.ConfigProto()\n",
    "## ask for GPU memory gracefully\n",
    "config.gpu_options.allow_growth = True\n",
    "\n",
    "sess = tf.compat.v1.Session(config=config)\n",
    "\n",
    "tf.compat.v1.keras.backend.set_session(sess)"
   ]
  },
  {
   "cell_type": "markdown",
   "metadata": {},
   "source": [
    "# Load data"
   ]
  },
  {
   "cell_type": "code",
   "execution_count": null,
   "metadata": {},
   "outputs": [],
   "source": [
    "cifar10 = keras.datasets.cifar10\n",
    "(X_train_full, y_train_full), (X_test, y_test) = cifar10.load_data()\n",
    "\n",
    "X_train, X_valid, y_train, y_valid = train_test_split(X_train_full, y_train_full, test_size=0.2, random_state=1)\n",
    "\n",
    "X_train = X_train/255.\n",
    "X_valid = X_valid/255.\n",
    "X_test = X_test/255.\n",
    "\n",
    "y_train = np_utils.to_categorical(y_train)\n",
    "y_valid = np_utils.to_categorical(y_valid)\n",
    "y_test = np_utils.to_categorical(y_test)\n",
    "\n",
    "num_classes = y_test.shape[1]\n",
    "class_names = [\"airplane\",\"automobile\",\"bird\",\"cat\",\"deer\",\"dog\",\"frog\",\"horse\",\"ship\",\"truck\"]\n",
    "\n",
    "print(\"num_training_samples: \", X_train.shape)"
   ]
  },
  {
   "cell_type": "markdown",
   "metadata": {},
   "source": [
    "# Configuration parameters\n",
    "Configuration values of different parts of the solution. You should change some of them to obtain better results."
   ]
  },
  {
   "cell_type": "code",
   "execution_count": null,
   "metadata": {},
   "outputs": [],
   "source": [
    "from datetime import datetime\n",
    "# Randomize the initial network \n",
    "keras.backend.clear_session()\n",
    "np.random.seed(42)\n",
    "tf.random.set_seed(42)\n",
    "\n",
    "\n",
    "# Directory where to store weights of the model and results\n",
    "now = datetime.now()\n",
    "current_time = now.strftime(\"%d_%H_%M_%S\")\n",
    "experiment_rootdir = \"./test/\"+current_time+\"/\"\n",
    "weights_path = experiment_rootdir +\"weights.h5\"\n",
    "weights_best_path = experiment_rootdir +\"weights_best.h5\"\n",
    "'''\n",
    "weights_augmentation_path = experiment_rootdir +\"weights_augmentation.h5\"\n",
    "weights_augmentation_best_path = experiment_rootdir +\"weights_augmentation_best.h5\"\n",
    "'''\n",
    "json_path = experiment_rootdir +\"experiment.json\"\n",
    "\n",
    "# Create experiment directory if it does not exists\n",
    "if not os.path.exists(experiment_rootdir):\n",
    "    os.makedirs(experiment_rootdir)\n",
    "print(experiment_rootdir)"
   ]
  },
  {
   "cell_type": "code",
   "execution_count": null,
   "metadata": {},
   "outputs": [],
   "source": [
    "# Parameters that configures the training process\n",
    "\n",
    "# Tunable parameters\n",
    "name_model = \"ResNet21_all_new\"\n",
    "initial_lr = 1e-2\n",
    "n_hidden = 0\n",
    "\n",
    "## Regularizarion\n",
    "l2_reg = 0\n",
    "dropout = 0.5\n",
    "batch_norm = True\n",
    "data_augmentation = True\n",
    "\n",
    "# Constant parameters\n",
    "compile_parameters = { \"metrics\": ['accuracy'], \"optimizer\": SGD(learning_rate=initial_lr,clipvalue=1.0)}\n",
    "\n",
    "batch_size = 512 \n",
    "epochs = 200\n",
    "initial_epoch = 0 \n",
    "num_classes = 10\n",
    "\n",
    "checkpoint_cb = ModelCheckpoint(weights_best_path,save_best_only=True)\n",
    "early_stopping_cb = EarlyStopping(patience=25,restore_best_weights=True)\n",
    "'''\n",
    "optimizer=  = keras.optimizers.SGD(learning_rate=0.001, momentum=0.9)\n",
    "optimizer = keras.optimizers.SGD(learning_rate=0.001, momentum=0.9, nesterov=True)\n",
    "optimizer = keras.optimizers.Adagrad(learning_rate=0.001)\n",
    "optimizer = keras.optimizers.RMSprop(learning_rate=0.001, rho=0.9)\n",
    "optimizer = keras.optimizers.Adam(learning_rate=0.001, beta_1=0.9, beta_2=0.999)\n",
    "optimizer = keras.optimizers.Adamax(learning_rate=0.001, beta_1=0.9, beta_2=0.999)\n",
    "optimizer = keras.optimizers.Nadam(learning_rate=0.001, beta_1=0.9, beta_2=0.999)\n",
    "'''\n",
    "\n",
    "parameters = {\n",
    "    \"name_model\":name_model,\n",
    "    \"compile_parameters\" :str(compile_parameters) ,\n",
    "    \"l2_reg\" : l2_reg,\n",
    "    \"batch_size\": batch_size,\n",
    "    \"epochs\": epochs, \n",
    "    \"initial_epoch\":initial_epoch, \n",
    "    \"initial_lr\": initial_lr,\n",
    "    \"num_classes\": num_classes,\n",
    "    \"dropout\": dropout,\n",
    "    \"batch_norm\": batch_norm,\n",
    "    \"data_aug\" : data_augmentation,\n",
    "    \"clipvalue=1.0\": \"True\",\n",
    "}\n",
    "create_json({\"parameters\":parameters}, json_path)\n"
   ]
  },
  {
   "cell_type": "code",
   "execution_count": null,
   "metadata": {},
   "outputs": [],
   "source": [
    "def trainModel(model,compile_parameters,X_train, y_train, validation_data, epochs, batch_size, experiment_rootdir, weights_path, json_path,datagen, callbacks,name=''):\n",
    "\n",
    "    model.compile(loss='categorical_crossentropy', optimizer=compile_parameters['optimizer'], metrics=compile_parameters['metrics'])\n",
    "    print(model.summary())\n",
    "\n",
    "    history=model.fit_generator(datagen.flow(X_train, y_train, batch_size=batch_size),\n",
    "                steps_per_epoch = (len(X_train)//batch_size), epochs=epochs, \n",
    "                validation_data=validation_data,\n",
    "                validation_steps=(len(X_train)*0.2//batch_size),\n",
    "                callbacks = callbacks)\n",
    "    hist_df = pd.DataFrame(history.history) \n",
    "    weights_path\n",
    "    data = {\"train_result\"+name:hist_df.to_dict()}\n",
    "    \n",
    "    model.save_weights(weights_path)\n",
    "    write_json(data,json_path)\n",
    "    return history"
   ]
  },
  {
   "cell_type": "markdown",
   "metadata": {},
   "source": [
    "# Training "
   ]
  },
  {
   "cell_type": "code",
   "execution_count": null,
   "metadata": {},
   "outputs": [],
   "source": [
    "# Data augmentation\n",
    "# set up image augmentation\n",
    "rotation_range=45\n",
    "horizontal_flip=True\n",
    "zoom_range=0.3\n",
    "datagen = ImageDataGenerator(\n",
    "    rotation_range=rotation_range if data_augmentation else 0,\n",
    "    horizontal_flip=horizontal_flip if data_augmentation else 0,\n",
    "    zoom_range=zoom_range if data_augmentation else 0)\n",
    " \n",
    "# datagen.fit(X_train)\n",
    "# for X_batch, y_batch in datagen.flow(X_train, y_train, batch_size=4, seed=499):\n",
    "#   print (X_batch.shape)\n",
    "#   for i in range(0,4):\n",
    "#     pyplot.subplot(220 +1 +i)\n",
    "#     pyplot.imshow(X_batch[i])\n",
    "#   pyplot.show()\n",
    "#   break\n",
    "# train with image augmentation\n",
    "\n",
    "augmentation_parameters = {\n",
    "    \"used\": str(data_augmentation),\n",
    "    \"rotation_range\":str(rotation_range),\n",
    "    \"horizontal_flip\":str(horizontal_flip),\n",
    "    \"zoom_range\":str(zoom_range)\n",
    "}\n",
    "write_json({\"augmentation_parameters\":augmentation_parameters}, json_path)"
   ]
  },
  {
   "cell_type": "code",
   "execution_count": null,
   "metadata": {},
   "outputs": [],
   "source": [
    "#Get model\n",
    "#model = MLP_model(dropout, num_classes=10, img_width=32, img_height=32, img_channels=3,l2_reg= l2_reg,n_hidden=n_hidden, batch_norm=batch_norm)\n",
    "#model = VGG19(dropout= dropout, num_classes=10, img_width=32, img_height=32, img_channels=3,l2_reg=l2_reg,batch_norm = batch_norm)\n",
    "model= ResNet21(dropout=dropout, num_classes=10, img_width=32, img_height=32, img_channels=3,l2_reg=l2_reg, batch_norm = batch_norm)\n",
    "#model = Transfer_model(dropout, img_width=32, img_height=32, img_channels=3, num_classes=10,l2_reg=l2_reg, batch_norm = batch_norm)\n",
    "#load weights\n",
    "load_previous_weights(model,weights_best_path)\n",
    "\n",
    "checkpoint_cb = ModelCheckpoint(weights_best_path,save_best_only=True)\n",
    "early_stopping_cb = EarlyStopping(patience=25,restore_best_weights=True, monitor=\"val_accuracy\")\n",
    "\n",
    "#training model\n",
    "val = datagen.flow(X_valid, y_valid, batch_size=batch_size)\n",
    "#val =(X_valid, y_valid)\n",
    "history = trainModel(model,compile_parameters,X_train, y_train, val, epochs, batch_size,experiment_rootdir,weights_path,json_path,datagen, [checkpoint_cb,early_stopping_cb])\n",
    "saveFigures(experiment_rootdir, history, \"accuracy\", \"loss\")\n",
    "'''\n",
    "if data_augmentation ==True:\n",
    "    #load weights\n",
    "    load_previous_weights(model,weights_best_path)\n",
    "\n",
    "    checkpoint_cb = ModelCheckpoint(weights_augmentation_best_path,save_best_only=True)\n",
    "    early_stopping_cb = EarlyStopping(patience=25,restore_best_weights=True, monitor=\"val_accuracy\")\n",
    "\n",
    "    #training model\n",
    "    val = datagen.flow(X_valid, y_valid, batch_size=batch_size)\n",
    "    #val =(X_valid, y_valid)\n",
    "    \n",
    "    history = trainModel(model,compile_parameters,X_train, y_train, val, epochs, batch_size,experiment_rootdir,weights_augmentation_path,json_path,datagen, [checkpoint_cb,early_stopping_cb],\"_augmentation\")\n",
    "    saveFigures(experiment_rootdir, history, \"accuracy_augmentation\", \"loss_augmentation\")\n",
    "'''"
   ]
  },
  {
   "cell_type": "markdown",
   "metadata": {},
   "source": [
    "# Testing"
   ]
  },
  {
   "cell_type": "code",
   "execution_count": null,
   "metadata": {},
   "outputs": [],
   "source": [
    "y_pred = np.argmax(model.predict(X_test), axis=1)\n",
    "gt = np.argmax(y_test, axis=1)\n",
    "\n",
    "# Evaluate predictions: Average accuracy and highest errors\n",
    "print(\"-----------------------------------------------\")\n",
    "print(\"Evaluation:\")\n",
    "# Compute average accuracy\n",
    "ave_accuracy = metrics.accuracy_score(gt, y_pred)\n",
    "print('Average accuracy = ', ave_accuracy)\n",
    "print(\"-----------------------------------------------\")\n",
    "\n",
    "# Visualize confusion matrix                                           \n",
    "plotcm(experiment_rootdir, gt, y_pred,class_names, experiment_rootdir, normalize=True)\n",
    "\n",
    "data = {\"test_accuracy\":ave_accuracy}\n",
    "write_json(data,json_path)\n",
    "\n"
   ]
  },
  {
   "cell_type": "code",
   "execution_count": null,
   "metadata": {},
   "outputs": [],
   "source": [
    "#from playsound import playsound\n",
    "#playsound('./sonido_fin.mp3')"
   ]
  }
 ],
 "metadata": {
  "kernelspec": {
   "display_name": "Python 3 (ipykernel)",
   "language": "python",
   "name": "python3"
  },
  "language_info": {
   "codemirror_mode": {
    "name": "ipython",
    "version": 3
   },
   "file_extension": ".py",
   "mimetype": "text/x-python",
   "name": "python",
   "nbconvert_exporter": "python",
   "pygments_lexer": "ipython3",
   "version": "3.7.7"
  }
 },
 "nbformat": 4,
 "nbformat_minor": 4
}
