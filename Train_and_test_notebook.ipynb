{
 "cells": [
  {
   "cell_type": "markdown",
   "metadata": {},
   "source": [
    "# Check GPU options"
   ]
  },
  {
   "cell_type": "code",
   "execution_count": 1,
   "metadata": {},
   "outputs": [
    {
     "name": "stdout",
     "output_type": "stream",
     "text": [
      "[name: \"/device:CPU:0\"\n",
      "device_type: \"CPU\"\n",
      "memory_limit: 268435456\n",
      "locality {\n",
      "}\n",
      "incarnation: 1709020284510466091\n",
      "xla_global_id: -1\n",
      ", name: \"/device:GPU:0\"\n",
      "device_type: \"GPU\"\n",
      "memory_limit: 6984105984\n",
      "locality {\n",
      "  bus_id: 1\n",
      "  links {\n",
      "  }\n",
      "}\n",
      "incarnation: 17142679714650660044\n",
      "physical_device_desc: \"device: 0, name: NVIDIA GeForce RTX 2070 SUPER, pci bus id: 0000:06:00.0, compute capability: 7.5\"\n",
      "xla_global_id: 416903419\n",
      ", name: \"/device:GPU:1\"\n",
      "device_type: \"GPU\"\n",
      "memory_limit: 6913851392\n",
      "locality {\n",
      "  bus_id: 1\n",
      "  links {\n",
      "  }\n",
      "}\n",
      "incarnation: 2437917695856920436\n",
      "physical_device_desc: \"device: 1, name: NVIDIA GeForce RTX 2070 SUPER, pci bus id: 0000:07:00.0, compute capability: 7.5\"\n",
      "xla_global_id: 2144165316\n",
      "]\n"
     ]
    },
    {
     "name": "stderr",
     "output_type": "stream",
     "text": [
      "2022-01-04 23:06:14.499348: I tensorflow/core/platform/cpu_feature_guard.cc:151] This TensorFlow binary is optimized with oneAPI Deep Neural Network Library (oneDNN) to use the following CPU instructions in performance-critical operations:  AVX2 FMA\n",
      "To enable them in other operations, rebuild TensorFlow with the appropriate compiler flags.\n",
      "2022-01-04 23:06:14.756277: I tensorflow/stream_executor/cuda/cuda_gpu_executor.cc:939] successful NUMA node read from SysFS had negative value (-1), but there must be at least one NUMA node, so returning NUMA node zero\n",
      "2022-01-04 23:06:14.756608: I tensorflow/stream_executor/cuda/cuda_gpu_executor.cc:939] successful NUMA node read from SysFS had negative value (-1), but there must be at least one NUMA node, so returning NUMA node zero\n",
      "2022-01-04 23:06:14.782160: I tensorflow/stream_executor/cuda/cuda_gpu_executor.cc:939] successful NUMA node read from SysFS had negative value (-1), but there must be at least one NUMA node, so returning NUMA node zero\n",
      "2022-01-04 23:06:14.782497: I tensorflow/stream_executor/cuda/cuda_gpu_executor.cc:939] successful NUMA node read from SysFS had negative value (-1), but there must be at least one NUMA node, so returning NUMA node zero\n",
      "2022-01-04 23:06:14.782787: I tensorflow/stream_executor/cuda/cuda_gpu_executor.cc:939] successful NUMA node read from SysFS had negative value (-1), but there must be at least one NUMA node, so returning NUMA node zero\n",
      "2022-01-04 23:06:14.783222: I tensorflow/stream_executor/cuda/cuda_gpu_executor.cc:939] successful NUMA node read from SysFS had negative value (-1), but there must be at least one NUMA node, so returning NUMA node zero\n",
      "2022-01-04 23:06:15.416224: I tensorflow/stream_executor/cuda/cuda_gpu_executor.cc:939] successful NUMA node read from SysFS had negative value (-1), but there must be at least one NUMA node, so returning NUMA node zero\n",
      "2022-01-04 23:06:15.416602: I tensorflow/stream_executor/cuda/cuda_gpu_executor.cc:939] successful NUMA node read from SysFS had negative value (-1), but there must be at least one NUMA node, so returning NUMA node zero\n",
      "2022-01-04 23:06:15.416900: I tensorflow/stream_executor/cuda/cuda_gpu_executor.cc:939] successful NUMA node read from SysFS had negative value (-1), but there must be at least one NUMA node, so returning NUMA node zero\n",
      "2022-01-04 23:06:15.417192: I tensorflow/stream_executor/cuda/cuda_gpu_executor.cc:939] successful NUMA node read from SysFS had negative value (-1), but there must be at least one NUMA node, so returning NUMA node zero\n",
      "2022-01-04 23:06:15.417491: I tensorflow/stream_executor/cuda/cuda_gpu_executor.cc:939] successful NUMA node read from SysFS had negative value (-1), but there must be at least one NUMA node, so returning NUMA node zero\n",
      "2022-01-04 23:06:15.417793: I tensorflow/core/common_runtime/gpu/gpu_device.cc:1525] Created device /device:GPU:0 with 6660 MB memory:  -> device: 0, name: NVIDIA GeForce RTX 2070 SUPER, pci bus id: 0000:06:00.0, compute capability: 7.5\n",
      "2022-01-04 23:06:15.418019: I tensorflow/stream_executor/cuda/cuda_gpu_executor.cc:939] successful NUMA node read from SysFS had negative value (-1), but there must be at least one NUMA node, so returning NUMA node zero\n",
      "2022-01-04 23:06:15.418298: I tensorflow/core/common_runtime/gpu/gpu_device.cc:1525] Created device /device:GPU:1 with 6593 MB memory:  -> device: 1, name: NVIDIA GeForce RTX 2070 SUPER, pci bus id: 0000:07:00.0, compute capability: 7.5\n"
     ]
    }
   ],
   "source": [
    "from tensorflow.python.client import device_lib\n",
    "print(device_lib.list_local_devices())"
   ]
  },
  {
   "cell_type": "markdown",
   "metadata": {},
   "source": [
    "# Import needed libraries"
   ]
  },
  {
   "cell_type": "code",
   "execution_count": 2,
   "metadata": {},
   "outputs": [],
   "source": [
    "# Import general purpose python libraries\n",
    "import os\n",
    "import matplotlib.pyplot as plt\n",
    "from PIL import Image # For handling the images\n",
    "import numpy as np\n",
    "from sklearn import metrics\n",
    "import pandas as pd\n",
    "# Import different Keras functionalities\n",
    "import tensorflow as tf\n",
    "from tensorflow import keras\n",
    "from keras.constraints import maxnorm\n",
    "from keras.utils import np_utils\n",
    "from tensorflow.keras.optimizers import SGD,Adagrad\n",
    "# from keras.optimizers import SGD,Adagrad\n",
    "from keras import backend as K\n",
    "#from keras.applications import ResNet50,Xception,VGG16,VGG19\n",
    "from sklearn.model_selection import train_test_split\n",
    "\n",
    "from plotcm import plotcm\n",
    "\n",
    "####\n",
    "# Where to save the figures\n",
    "IMAGES_PATH = \"../images\"\n",
    "os.makedirs(IMAGES_PATH, exist_ok=True)\n",
    "\n",
    "def save_fig(fig_id, tight_layout=True, fig_extension=\"png\", resolution=300):\n",
    "    path = os.path.join(IMAGES_PATH, fig_id + \".\" + fig_extension)\n",
    "    print(\"Saving figure\", fig_id)\n",
    "    if tight_layout:\n",
    "        plt.tight_layout()\n",
    "    plt.savefig(path, format=fig_extension, dpi=resolution)\n",
    "from utils import saveFigures,write_json,create_json,load_previous_weights\n",
    "\n",
    "from models import VGG16, MLP_model"
   ]
  },
  {
   "cell_type": "markdown",
   "metadata": {},
   "source": [
    "# Load data"
   ]
  },
  {
   "cell_type": "code",
   "execution_count": 3,
   "metadata": {},
   "outputs": [
    {
     "name": "stdout",
     "output_type": "stream",
     "text": [
      "num_training_samples:  (40000, 32, 32, 3)\n"
     ]
    }
   ],
   "source": [
    "cifar10 = keras.datasets.cifar10\n",
    "(X_train_full, y_train_full), (X_test, y_test) = cifar10.load_data()\n",
    "\n",
    "X_train, X_valid, y_train, y_valid = train_test_split(X_train_full, y_train_full, test_size=0.2, random_state=1)\n",
    "\n",
    "X_train = X_train/255.\n",
    "X_valid = X_valid/255.\n",
    "X_test = X_test/255.\n",
    "\n",
    "y_train = np_utils.to_categorical(y_train)\n",
    "y_valid = np_utils.to_categorical(y_valid)\n",
    "y_test = np_utils.to_categorical(y_test)\n",
    "\n",
    "num_classes = y_test.shape[1]\n",
    "class_names = [\"airplane\",\"automobile\",\"bird\",\"cat\",\"deer\",\"dog\",\"frog\",\"horse\",\"ship\",\"truck\"]\n",
    "\n",
    "print(\"num_training_samples: \", X_train.shape)"
   ]
  },
  {
   "cell_type": "markdown",
   "metadata": {},
   "source": [
    "# Configuration parameters\n",
    "Configuration values of different parts of the solution. You should change some of them to obtain better results."
   ]
  },
  {
   "cell_type": "code",
   "execution_count": 4,
   "metadata": {},
   "outputs": [
    {
     "name": "stdout",
     "output_type": "stream",
     "text": [
      "./test/04_23_06_16/\n"
     ]
    }
   ],
   "source": [
    "from datetime import datetime\n",
    "# Randomize the initial network \n",
    "keras.backend.clear_session()\n",
    "np.random.seed(42)\n",
    "tf.random.set_seed(42)\n",
    "\n",
    "\n",
    "# Directory where to store weights of the model and results\n",
    "now = datetime.now()\n",
    "current_time = now.strftime(\"%d_%H_%M_%S\")\n",
    "experiment_rootdir = \"./test/\"+current_time+\"/\"\n",
    "weights_path = experiment_rootdir +\"weights.h5\"\n",
    "weights_best_path = experiment_rootdir +\"weights_best.h5\"\n",
    "json_path = experiment_rootdir +\"experiment.json\"\n",
    "\n",
    "# Create experiment directory if it does not exists\n",
    "if not os.path.exists(experiment_rootdir):\n",
    "    os.makedirs(experiment_rootdir)\n",
    "print(experiment_rootdir)"
   ]
  },
  {
   "cell_type": "code",
   "execution_count": 5,
   "metadata": {},
   "outputs": [],
   "source": [
    "# Parameters that configures the training process\n",
    "\n",
    "# Tunable parameters\n",
    "name_model = \"MLP-10layers\"\n",
    "initial_lr = 5e-2\n",
    "\n",
    "l2_reg = 0.0\n",
    "dropout = 0.0\n",
    "\n",
    "compile_parameters = { \"metrics\": ['accuracy'], \"optimizer\": SGD(learning_rate=initial_lr)}\n",
    "\n",
    "# TODO\n",
    "\n",
    "\n",
    "## Constant parameters\n",
    "batch_size = 512 \n",
    "epochs = 200\n",
    "initial_epoch = 0 \n",
    "num_classes = 10\n",
    "dropout = 0.5\n",
    "\n",
    "checkpoint_cb = keras.callbacks.ModelCheckpoint(weights_best_path,save_best_only=True)\n",
    "early_stopping_cb = keras.callbacks.EarlyStopping(patience=25,restore_best_weights=True)\n",
    "'''\n",
    "optimizer=  = keras.optimizers.SGD(learning_rate=0.001, momentum=0.9)\n",
    "optimizer = keras.optimizers.SGD(learning_rate=0.001, momentum=0.9, nesterov=True)\n",
    "optimizer = keras.optimizers.Adagrad(learning_rate=0.001)\n",
    "optimizer = keras.optimizers.RMSprop(learning_rate=0.001, rho=0.9)\n",
    "optimizer = keras.optimizers.Adam(learning_rate=0.001, beta_1=0.9, beta_2=0.999)\n",
    "optimizer = keras.optimizers.Adamax(learning_rate=0.001, beta_1=0.9, beta_2=0.999)\n",
    "optimizer = keras.optimizers.Nadam(learning_rate=0.001, beta_1=0.9, beta_2=0.999)\n",
    "'''\n",
    "\n",
    "parameters = {\n",
    "    \"name_model\":name_model,\n",
    "    \"compile_parameters\" :str(compile_parameters) ,\n",
    "    \"batch_size\": batch_size,\n",
    "    \"epochs\": epochs, \n",
    "    \"initial_epoch\":initial_epoch, \n",
    "    \"initial_lr\": initial_lr,\n",
    "    \"num_classes\": num_classes,\n",
    "    \"dropout\": dropout\n",
    "\n",
    "}\n",
    "create_json({\"parameters\":parameters}, json_path)\n"
   ]
  },
  {
   "cell_type": "code",
   "execution_count": 6,
   "metadata": {},
   "outputs": [],
   "source": [
    "def trainModel(model,compile_parameters,X_train, y_train, validation_data, epochs, batch_size, experiment_rootdir, weights_path, json_path):\n",
    "    model.compile(loss='categorical_crossentropy', optimizer=compile_parameters['optimizer'], metrics=compile_parameters['metrics'])\n",
    "    print(model.summary())\n",
    "    history = model.fit(x= X_train, y= y_train, validation_data = validation_data, epochs = epochs, batch_size= batch_size,callbacks=[checkpoint_cb, early_stopping_cb])\n",
    "    model.save_weights(weights_path)\n",
    "    hist_df = pd.DataFrame(history.history) \n",
    "    data = {\"train_result2\":hist_df.to_dict()}\n",
    "    write_json(data,json_path)\n",
    "    return history"
   ]
  },
  {
   "cell_type": "markdown",
   "metadata": {},
   "source": [
    "# Training "
   ]
  },
  {
   "cell_type": "code",
   "execution_count": 7,
   "metadata": {
    "scrolled": true
   },
   "outputs": [
    {
     "name": "stdout",
     "output_type": "stream",
     "text": [
      "Impossible to find weight path. Returning untrained model\n",
      "Model: \"model\"\n",
      "_________________________________________________________________\n",
      " Layer (type)                Output Shape              Param #   \n",
      "=================================================================\n",
      " input_1 (InputLayer)        [(None, 32, 32, 3)]       0         \n",
      "                                                                 \n",
      " flatten (Flatten)           (None, 3072)              0         \n",
      "                                                                 \n",
      " dense (Dense)               (None, 940)               2888620   \n",
      "                                                                 \n",
      " dense_1 (Dense)             (None, 846)               796086    \n",
      "                                                                 \n",
      " dense_2 (Dense)             (None, 752)               636944    \n",
      "                                                                 \n",
      " dense_3 (Dense)             (None, 658)               495474    \n",
      "                                                                 \n",
      " dense_4 (Dense)             (None, 564)               371676    \n",
      "                                                                 \n",
      " dense_5 (Dense)             (None, 470)               265550    \n",
      "                                                                 \n",
      " dense_6 (Dense)             (None, 376)               177096    \n",
      "                                                                 \n",
      " dense_7 (Dense)             (None, 282)               106314    \n",
      "                                                                 \n",
      " dense_8 (Dense)             (None, 188)               53204     \n",
      "                                                                 \n",
      " dense_9 (Dense)             (None, 94)                17766     \n",
      "                                                                 \n",
      " dense_10 (Dense)            (None, 10)                950       \n",
      "                                                                 \n",
      "=================================================================\n",
      "Total params: 5,809,680\n",
      "Trainable params: 5,809,680\n",
      "Non-trainable params: 0\n",
      "_________________________________________________________________\n",
      "None\n"
     ]
    },
    {
     "name": "stderr",
     "output_type": "stream",
     "text": [
      "2022-01-04 23:06:16.477339: I tensorflow/stream_executor/cuda/cuda_gpu_executor.cc:939] successful NUMA node read from SysFS had negative value (-1), but there must be at least one NUMA node, so returning NUMA node zero\n",
      "2022-01-04 23:06:16.477695: I tensorflow/stream_executor/cuda/cuda_gpu_executor.cc:939] successful NUMA node read from SysFS had negative value (-1), but there must be at least one NUMA node, so returning NUMA node zero\n",
      "2022-01-04 23:06:16.477993: I tensorflow/stream_executor/cuda/cuda_gpu_executor.cc:939] successful NUMA node read from SysFS had negative value (-1), but there must be at least one NUMA node, so returning NUMA node zero\n",
      "2022-01-04 23:06:16.478278: I tensorflow/stream_executor/cuda/cuda_gpu_executor.cc:939] successful NUMA node read from SysFS had negative value (-1), but there must be at least one NUMA node, so returning NUMA node zero\n",
      "2022-01-04 23:06:16.478562: I tensorflow/stream_executor/cuda/cuda_gpu_executor.cc:939] successful NUMA node read from SysFS had negative value (-1), but there must be at least one NUMA node, so returning NUMA node zero\n",
      "2022-01-04 23:06:16.478846: I tensorflow/stream_executor/cuda/cuda_gpu_executor.cc:939] successful NUMA node read from SysFS had negative value (-1), but there must be at least one NUMA node, so returning NUMA node zero\n",
      "2022-01-04 23:06:16.479246: I tensorflow/stream_executor/cuda/cuda_gpu_executor.cc:939] successful NUMA node read from SysFS had negative value (-1), but there must be at least one NUMA node, so returning NUMA node zero\n",
      "2022-01-04 23:06:16.479539: I tensorflow/stream_executor/cuda/cuda_gpu_executor.cc:939] successful NUMA node read from SysFS had negative value (-1), but there must be at least one NUMA node, so returning NUMA node zero\n",
      "2022-01-04 23:06:16.479825: I tensorflow/stream_executor/cuda/cuda_gpu_executor.cc:939] successful NUMA node read from SysFS had negative value (-1), but there must be at least one NUMA node, so returning NUMA node zero\n",
      "2022-01-04 23:06:16.480108: I tensorflow/stream_executor/cuda/cuda_gpu_executor.cc:939] successful NUMA node read from SysFS had negative value (-1), but there must be at least one NUMA node, so returning NUMA node zero\n",
      "2022-01-04 23:06:16.480391: I tensorflow/stream_executor/cuda/cuda_gpu_executor.cc:939] successful NUMA node read from SysFS had negative value (-1), but there must be at least one NUMA node, so returning NUMA node zero\n",
      "2022-01-04 23:06:16.480674: I tensorflow/stream_executor/cuda/cuda_gpu_executor.cc:939] successful NUMA node read from SysFS had negative value (-1), but there must be at least one NUMA node, so returning NUMA node zero\n",
      "2022-01-04 23:06:16.481028: I tensorflow/stream_executor/cuda/cuda_gpu_executor.cc:939] successful NUMA node read from SysFS had negative value (-1), but there must be at least one NUMA node, so returning NUMA node zero\n",
      "2022-01-04 23:06:16.481336: I tensorflow/stream_executor/cuda/cuda_gpu_executor.cc:939] successful NUMA node read from SysFS had negative value (-1), but there must be at least one NUMA node, so returning NUMA node zero\n",
      "2022-01-04 23:06:16.481624: I tensorflow/stream_executor/cuda/cuda_gpu_executor.cc:939] successful NUMA node read from SysFS had negative value (-1), but there must be at least one NUMA node, so returning NUMA node zero\n",
      "2022-01-04 23:06:16.481891: I tensorflow/core/common_runtime/gpu/gpu_device.cc:1525] Created device /job:localhost/replica:0/task:0/device:GPU:0 with 6660 MB memory:  -> device: 0, name: NVIDIA GeForce RTX 2070 SUPER, pci bus id: 0000:06:00.0, compute capability: 7.5\n",
      "2022-01-04 23:06:16.481927: I tensorflow/stream_executor/cuda/cuda_gpu_executor.cc:939] successful NUMA node read from SysFS had negative value (-1), but there must be at least one NUMA node, so returning NUMA node zero\n",
      "2022-01-04 23:06:16.482190: I tensorflow/core/common_runtime/gpu/gpu_device.cc:1525] Created device /job:localhost/replica:0/task:0/device:GPU:1 with 6593 MB memory:  -> device: 1, name: NVIDIA GeForce RTX 2070 SUPER, pci bus id: 0000:07:00.0, compute capability: 7.5\n"
     ]
    },
    {
     "name": "stdout",
     "output_type": "stream",
     "text": [
      "Epoch 1/200\n",
      "79/79 [==============================] - 2s 17ms/step - loss: 2.2483 - accuracy: 0.1598 - val_loss: 2.1305 - val_accuracy: 0.1841\n",
      "Epoch 2/200\n",
      "79/79 [==============================] - 1s 11ms/step - loss: 2.1249 - accuracy: 0.2057 - val_loss: 2.1610 - val_accuracy: 0.2066\n",
      "Epoch 3/200\n",
      "79/79 [==============================] - 1s 12ms/step - loss: 2.0295 - accuracy: 0.2551 - val_loss: 1.9368 - val_accuracy: 0.3143\n",
      "Epoch 4/200\n",
      "79/79 [==============================] - 1s 12ms/step - loss: 1.9571 - accuracy: 0.2903 - val_loss: 1.8822 - val_accuracy: 0.3161\n",
      "Epoch 5/200\n",
      "79/79 [==============================] - 1s 11ms/step - loss: 1.9071 - accuracy: 0.3117 - val_loss: 1.9937 - val_accuracy: 0.2425\n",
      "Epoch 6/200\n",
      "79/79 [==============================] - 1s 11ms/step - loss: 1.8657 - accuracy: 0.3239 - val_loss: 2.2280 - val_accuracy: 0.2288\n",
      "Epoch 7/200\n",
      "79/79 [==============================] - 1s 12ms/step - loss: 1.8323 - accuracy: 0.3377 - val_loss: 1.8580 - val_accuracy: 0.3140\n",
      "Epoch 8/200\n",
      "79/79 [==============================] - 1s 11ms/step - loss: 1.7995 - accuracy: 0.3506 - val_loss: 1.9563 - val_accuracy: 0.2901\n",
      "Epoch 9/200\n",
      "79/79 [==============================] - 1s 12ms/step - loss: 1.7683 - accuracy: 0.3630 - val_loss: 1.7081 - val_accuracy: 0.3883\n",
      "Epoch 10/200\n",
      "79/79 [==============================] - 1s 11ms/step - loss: 1.7418 - accuracy: 0.3748 - val_loss: 1.9044 - val_accuracy: 0.3010\n",
      "Epoch 11/200\n",
      "79/79 [==============================] - 1s 11ms/step - loss: 1.7168 - accuracy: 0.3853 - val_loss: 1.7226 - val_accuracy: 0.3821\n",
      "Epoch 12/200\n",
      "79/79 [==============================] - 1s 12ms/step - loss: 1.6807 - accuracy: 0.3967 - val_loss: 1.6597 - val_accuracy: 0.4110\n",
      "Epoch 13/200\n",
      "79/79 [==============================] - 1s 11ms/step - loss: 1.6624 - accuracy: 0.4054 - val_loss: 1.8089 - val_accuracy: 0.3519\n",
      "Epoch 14/200\n",
      "79/79 [==============================] - 1s 11ms/step - loss: 1.6585 - accuracy: 0.4060 - val_loss: 1.9987 - val_accuracy: 0.2891\n",
      "Epoch 15/200\n",
      "79/79 [==============================] - 1s 12ms/step - loss: 1.6365 - accuracy: 0.4127 - val_loss: 2.0443 - val_accuracy: 0.3006\n",
      "Epoch 16/200\n",
      "79/79 [==============================] - 1s 11ms/step - loss: 1.6247 - accuracy: 0.4197 - val_loss: 1.7425 - val_accuracy: 0.3800\n",
      "Epoch 17/200\n",
      "79/79 [==============================] - 1s 11ms/step - loss: 1.6012 - accuracy: 0.4254 - val_loss: 1.7748 - val_accuracy: 0.3707\n",
      "Epoch 18/200\n",
      "79/79 [==============================] - 1s 11ms/step - loss: 1.5803 - accuracy: 0.4374 - val_loss: 1.7096 - val_accuracy: 0.3953\n",
      "Epoch 19/200\n",
      "79/79 [==============================] - 1s 11ms/step - loss: 1.5555 - accuracy: 0.4448 - val_loss: 1.6927 - val_accuracy: 0.4034\n",
      "Epoch 20/200\n",
      "79/79 [==============================] - 1s 12ms/step - loss: 1.5368 - accuracy: 0.4502 - val_loss: 1.9337 - val_accuracy: 0.3172\n",
      "Epoch 21/200\n",
      "79/79 [==============================] - 1s 12ms/step - loss: 1.5502 - accuracy: 0.4469 - val_loss: 1.6577 - val_accuracy: 0.3925\n",
      "Epoch 22/200\n",
      "79/79 [==============================] - 1s 11ms/step - loss: 1.5075 - accuracy: 0.4623 - val_loss: 1.8736 - val_accuracy: 0.3430\n",
      "Epoch 23/200\n",
      "79/79 [==============================] - 1s 11ms/step - loss: 1.5116 - accuracy: 0.4605 - val_loss: 1.8812 - val_accuracy: 0.3343\n",
      "Epoch 24/200\n",
      "79/79 [==============================] - 1s 11ms/step - loss: 1.5112 - accuracy: 0.4593 - val_loss: 1.7243 - val_accuracy: 0.3848\n",
      "Epoch 25/200\n",
      "79/79 [==============================] - 1s 11ms/step - loss: 1.4743 - accuracy: 0.4742 - val_loss: 1.7077 - val_accuracy: 0.4028\n",
      "Epoch 26/200\n",
      "79/79 [==============================] - 1s 11ms/step - loss: 1.4791 - accuracy: 0.4718 - val_loss: 1.6586 - val_accuracy: 0.3954\n",
      "Epoch 27/200\n",
      "79/79 [==============================] - 1s 11ms/step - loss: 1.4272 - accuracy: 0.4897 - val_loss: 1.7658 - val_accuracy: 0.3647\n",
      "Epoch 28/200\n",
      "79/79 [==============================] - 1s 11ms/step - loss: 1.4596 - accuracy: 0.4821 - val_loss: 2.2642 - val_accuracy: 0.3307\n",
      "Epoch 29/200\n",
      "79/79 [==============================] - 1s 12ms/step - loss: 1.4544 - accuracy: 0.4829 - val_loss: 1.5064 - val_accuracy: 0.4625\n",
      "Epoch 30/200\n",
      "79/79 [==============================] - 1s 12ms/step - loss: 1.4031 - accuracy: 0.4990 - val_loss: 1.6050 - val_accuracy: 0.4330\n",
      "Epoch 31/200\n",
      "79/79 [==============================] - 1s 11ms/step - loss: 1.4015 - accuracy: 0.5011 - val_loss: 1.6940 - val_accuracy: 0.3861\n",
      "Epoch 32/200\n",
      "79/79 [==============================] - 1s 11ms/step - loss: 1.3933 - accuracy: 0.5041 - val_loss: 1.7799 - val_accuracy: 0.3828\n",
      "Epoch 33/200\n",
      "79/79 [==============================] - 1s 12ms/step - loss: 1.3718 - accuracy: 0.5102 - val_loss: 1.5168 - val_accuracy: 0.4532\n",
      "Epoch 34/200\n",
      "79/79 [==============================] - 1s 11ms/step - loss: 1.3612 - accuracy: 0.5178 - val_loss: 1.8017 - val_accuracy: 0.3704\n",
      "Epoch 35/200\n",
      "79/79 [==============================] - 1s 11ms/step - loss: 1.3390 - accuracy: 0.5239 - val_loss: 1.7428 - val_accuracy: 0.4100\n",
      "Epoch 36/200\n",
      "79/79 [==============================] - 1s 12ms/step - loss: 1.3224 - accuracy: 0.5309 - val_loss: 2.3578 - val_accuracy: 0.2938\n",
      "Epoch 37/200\n",
      "79/79 [==============================] - 1s 11ms/step - loss: 1.3818 - accuracy: 0.5121 - val_loss: 2.0275 - val_accuracy: 0.3682\n",
      "Epoch 38/200\n",
      "79/79 [==============================] - 1s 11ms/step - loss: 1.3867 - accuracy: 0.5134 - val_loss: 1.6686 - val_accuracy: 0.4155\n",
      "Epoch 39/200\n",
      "79/79 [==============================] - 1s 12ms/step - loss: 1.2754 - accuracy: 0.5471 - val_loss: 1.5499 - val_accuracy: 0.4371\n",
      "Epoch 40/200\n",
      "79/79 [==============================] - 1s 11ms/step - loss: 1.2768 - accuracy: 0.5459 - val_loss: 1.9296 - val_accuracy: 0.3481\n",
      "Epoch 41/200\n",
      "79/79 [==============================] - 1s 11ms/step - loss: 1.2687 - accuracy: 0.5494 - val_loss: 1.6040 - val_accuracy: 0.4484\n",
      "Epoch 42/200\n",
      "79/79 [==============================] - 1s 11ms/step - loss: 1.2639 - accuracy: 0.5493 - val_loss: 1.5247 - val_accuracy: 0.4680\n",
      "Epoch 43/200\n",
      "79/79 [==============================] - 1s 11ms/step - loss: 1.2325 - accuracy: 0.5650 - val_loss: 1.7247 - val_accuracy: 0.4129\n",
      "Epoch 44/200\n",
      "79/79 [==============================] - 1s 11ms/step - loss: 1.2164 - accuracy: 0.5701 - val_loss: 1.8468 - val_accuracy: 0.4058\n",
      "Epoch 45/200\n",
      "79/79 [==============================] - 1s 11ms/step - loss: 1.2157 - accuracy: 0.5715 - val_loss: 1.7311 - val_accuracy: 0.3965\n",
      "Epoch 46/200\n",
      "79/79 [==============================] - 1s 11ms/step - loss: 1.1980 - accuracy: 0.5756 - val_loss: 1.7361 - val_accuracy: 0.4407\n",
      "Epoch 47/200\n",
      "79/79 [==============================] - 1s 11ms/step - loss: 1.1897 - accuracy: 0.5788 - val_loss: 1.5610 - val_accuracy: 0.4678\n",
      "Epoch 48/200\n",
      "79/79 [==============================] - 1s 11ms/step - loss: 1.1666 - accuracy: 0.5882 - val_loss: 1.6913 - val_accuracy: 0.4224\n",
      "Epoch 49/200\n",
      "79/79 [==============================] - 1s 11ms/step - loss: 1.1620 - accuracy: 0.5900 - val_loss: 1.6602 - val_accuracy: 0.4367\n",
      "Epoch 50/200\n",
      "79/79 [==============================] - 1s 11ms/step - loss: 1.1436 - accuracy: 0.5946 - val_loss: 2.2307 - val_accuracy: 0.3404\n",
      "Epoch 51/200\n",
      "79/79 [==============================] - 1s 11ms/step - loss: 1.1761 - accuracy: 0.5867 - val_loss: 2.0591 - val_accuracy: 0.3676\n",
      "Epoch 52/200\n",
      "79/79 [==============================] - 1s 11ms/step - loss: 1.1870 - accuracy: 0.5873 - val_loss: 1.6145 - val_accuracy: 0.4677\n",
      "Epoch 53/200\n",
      "79/79 [==============================] - 1s 11ms/step - loss: 1.1000 - accuracy: 0.6129 - val_loss: 1.8894 - val_accuracy: 0.3988\n",
      "Epoch 54/200\n",
      "79/79 [==============================] - 1s 12ms/step - loss: 1.0928 - accuracy: 0.6135 - val_loss: 2.4457 - val_accuracy: 0.3219\n"
     ]
    },
    {
     "data": {
      "text/plain": [
       "<Figure size 432x288 with 0 Axes>"
      ]
     },
     "metadata": {},
     "output_type": "display_data"
    }
   ],
   "source": [
    "#Get model\n",
    "model = MLP_model(10, num_classes=10, img_width=32, img_height=32, img_channels=3)\n",
    "\n",
    "#load weights\n",
    "load_previous_weights(model,weights_path)\n",
    "\n",
    "#training model\n",
    "val = (X_valid, y_valid)\n",
    "\n",
    "history =trainModel(model,compile_parameters,X_train, y_train,val, epochs, batch_size,experiment_rootdir,weights_path,json_path)\n",
    "\n",
    "saveFigures(experiment_rootdir, history, \"accuracy\", \"loss\")"
   ]
  },
  {
   "cell_type": "markdown",
   "metadata": {},
   "source": [
    "# Testing"
   ]
  },
  {
   "cell_type": "code",
   "execution_count": 8,
   "metadata": {},
   "outputs": [
    {
     "name": "stdout",
     "output_type": "stream",
     "text": [
      "-----------------------------------------------\n",
      "Evaluation:\n",
      "Average accuracy =  0.4707\n",
      "-----------------------------------------------\n"
     ]
    },
    {
     "data": {
      "image/png": "[encoded data removed]",
      "text/plain": [
       "<Figure size 432x288 with 2 Axes>"
      ]
     },
     "metadata": {
      "needs_background": "light"
     },
     "output_type": "display_data"
    }
   ],
   "source": [
    "y_pred = np.argmax(model.predict(X_test), axis=1)\n",
    "gt = np.argmax(y_test, axis=1)\n",
    "\n",
    "# Evaluate predictions: Average accuracy and highest errors\n",
    "print(\"-----------------------------------------------\")\n",
    "print(\"Evaluation:\")\n",
    "# Compute average accuracy\n",
    "ave_accuracy = metrics.accuracy_score(gt, y_pred)\n",
    "print('Average accuracy = ', ave_accuracy)\n",
    "print(\"-----------------------------------------------\")\n",
    "\n",
    "# Visualize confusion matrix                                           \n",
    "plotcm(experiment_rootdir, gt, y_pred,class_names, experiment_rootdir, normalize=True)\n",
    "\n",
    "\n",
    "data = {\"test_accuracy\":ave_accuracy}\n",
    "write_json(data,json_path)\n",
    "\n"
   ]
  }
 ],
 "metadata": {
  "kernelspec": {
   "display_name": "Python 3 (ipykernel)",
   "language": "python",
   "name": "python3"
  },
  "language_info": {
   "codemirror_mode": {
    "name": "ipython",
    "version": 3
   },
   "file_extension": ".py",
   "mimetype": "text/x-python",
   "name": "python",
   "nbconvert_exporter": "python",
   "pygments_lexer": "ipython3",
   "version": "3.8.10"
  }
 },
 "nbformat": 4,
 "nbformat_minor": 4
}
