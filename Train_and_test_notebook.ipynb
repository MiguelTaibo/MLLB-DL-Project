{
 "cells": [
  {
   "cell_type": "markdown",
   "metadata": {},
   "source": [
    "# Check GPU options"
   ]
  },
  {
   "cell_type": "code",
   "execution_count": 11,
   "metadata": {},
   "outputs": [
    {
     "name": "stdout",
     "output_type": "stream",
     "text": [
      "[name: \"/device:CPU:0\"\n",
      "device_type: \"CPU\"\n",
      "memory_limit: 268435456\n",
      "locality {\n",
      "}\n",
      "incarnation: 15929101096674432473\n",
      "xla_global_id: -1\n",
      "]\n"
     ]
    }
   ],
   "source": [
    "from tensorflow.python.client import device_lib\n",
    "print(device_lib.list_local_devices())"
   ]
  },
  {
   "cell_type": "markdown",
   "metadata": {},
   "source": [
    "# Import needed libraries"
   ]
  },
  {
   "cell_type": "code",
   "execution_count": 12,
   "metadata": {},
   "outputs": [],
   "source": [
    "# Import general purpose python libraries\n",
    "import os\n",
    "import matplotlib.pyplot as plt\n",
    "from PIL import Image # For handling the images\n",
    "import numpy as np\n",
    "from sklearn import metrics\n",
    "import pandas as pd\n",
    "# Import different Keras functionalities\n",
    "import tensorflow as tf\n",
    "from tensorflow import keras\n",
    "from keras.constraints import maxnorm\n",
    "from keras.utils import np_utils\n",
    "from tensorflow.keras.optimizers import SGD,Adagrad\n",
    "# from keras.optimizers import SGD,Adagrad\n",
    "from keras import backend as K\n",
    "#from keras.applications import ResNet50,Xception,VGG16,VGG19\n",
    "from sklearn.model_selection import train_test_split\n",
    "\n",
    "####\n",
    "# Where to save the figures\n",
    "IMAGES_PATH = \"../images\"\n",
    "os.makedirs(IMAGES_PATH, exist_ok=True)\n",
    "\n",
    "def save_fig(fig_id, tight_layout=True, fig_extension=\"png\", resolution=300):\n",
    "    path = os.path.join(IMAGES_PATH, fig_id + \".\" + fig_extension)\n",
    "    print(\"Saving figure\", fig_id)\n",
    "    if tight_layout:\n",
    "        plt.tight_layout()\n",
    "    plt.savefig(path, format=fig_extension, dpi=resolution)\n",
    "from utils import saveFigures,write_json,create_json,load_previous_weights\n",
    "\n",
    "from models.vgg16 import VGG16"
   ]
  },
  {
   "cell_type": "markdown",
   "metadata": {},
   "source": [
    "# Visualize data"
   ]
  },
  {
   "cell_type": "code",
   "execution_count": 13,
   "metadata": {},
   "outputs": [
    {
     "name": "stdout",
     "output_type": "stream",
     "text": [
      "num_training_samples:  (40000, 32, 32, 3)\n"
     ]
    }
   ],
   "source": [
    "cifar10 = keras.datasets.cifar10\n",
    "(X_train_full, y_train_full), (X_test, y_test) = cifar10.load_data()\n",
    "\n",
    "X_train, X_valid, y_train, y_valid = train_test_split(X_train_full, y_train_full, test_size=0.2, random_state=1)\n",
    "\n",
    "X_train = X_train/255.\n",
    "X_valid = X_valid/255.\n",
    "X_test = X_test/255.\n",
    "\n",
    "y_train = np_utils.to_categorical(y_train)\n",
    "y_test = np_utils.to_categorical(y_test)\n",
    "\n",
    "num_classes = y_test.shape[1]\n",
    "class_names = [\"airplane\",\"automobile\",\"bird\",\"cat\",\"deer\",\"dog\",\"frog\",\"horse\",\"ship\",\"truck\"]\n",
    "\n",
    "print(\"num_training_samples: \", X_train.shape)"
   ]
  },
  {
   "cell_type": "markdown",
   "metadata": {},
   "source": [
    "# Configuration parameters\n",
    "Configuration values of different parts of the solution. You should change some of them to obtain better results."
   ]
  },
  {
   "cell_type": "code",
   "execution_count": 16,
   "metadata": {},
   "outputs": [
    {
     "name": "stdout",
     "output_type": "stream",
     "text": [
      "./test/04_18_22_39/\n"
     ]
    }
   ],
   "source": [
    "from datetime import datetime\n",
    "# Randomize the initial network \n",
    "keras.backend.clear_session()\n",
    "np.random.seed(42)\n",
    "tf.random.set_seed(42)\n",
    "\n",
    "\n",
    "# Directory where to store weights of the model and results\n",
    "now = datetime.now()\n",
    "current_time = now.strftime(\"%d_%H_%M_%S\")\n",
    "experiment_rootdir = \"./test/\"+current_time+\"/\"\n",
    "weights_path = experiment_rootdir +\"weights.h5\"\n",
    "json_path = experiment_rootdir +\"experiment.json\"\n",
    "\n",
    "# Create experiment directory if it does not exists\n",
    "if not os.path.exists(experiment_rootdir):\n",
    "    os.makedirs(experiment_rootdir)\n",
    "print(experiment_rootdir)"
   ]
  },
  {
   "cell_type": "code",
   "execution_count": 17,
   "metadata": {},
   "outputs": [],
   "source": [
    "# Parameters that configures the training process\n",
    "\n",
    "# Tunable parameters\n",
    "name_model = \"Prueba\"\n",
    "initial_lr = 1e-4 \n",
    "\n",
    "l2_reg = 0.0\n",
    "dropout = 0.0\n",
    "\n",
    "compile_parameters = { \"metrics\": ['accuracy'], \"optimizer\": SGD(learning_rate=initial_lr)}\n",
    "\n",
    "# TODO\n",
    "\n",
    "\n",
    "## Constant parameters\n",
    "batch_size = 512 \n",
    "epochs = 100 \n",
    "initial_epoch = 0 \n",
    "num_classes = 10\n",
    "\n",
    "'''\n",
    "optimizer=  = keras.optimizers.SGD(learning_rate=0.001, momentum=0.9)\n",
    "optimizer = keras.optimizers.SGD(learning_rate=0.001, momentum=0.9, nesterov=True)\n",
    "optimizer = keras.optimizers.Adagrad(learning_rate=0.001)\n",
    "optimizer = keras.optimizers.RMSprop(learning_rate=0.001, rho=0.9)\n",
    "optimizer = keras.optimizers.Adam(learning_rate=0.001, beta_1=0.9, beta_2=0.999)\n",
    "optimizer = keras.optimizers.Adamax(learning_rate=0.001, beta_1=0.9, beta_2=0.999)\n",
    "optimizer = keras.optimizers.Nadam(learning_rate=0.001, beta_1=0.9, beta_2=0.999)\n",
    "'''\n",
    "\n",
    "parameters = {\n",
    "    \"name_model\":name_model,\n",
    "    \"compile_parameters\" :str(compile_parameters) ,\n",
    "    \"batch_size\": batch_size,\n",
    "    \"epochs\": epochs, \n",
    "    \"initial_epoch\":initial_epoch, \n",
    "    \"initial_lr\": initial_lr,\n",
    "    \"num_classes\": num_classes,\n",
    "    \"dropout\": dropout\n",
    "\n",
    "}\n",
    "create_json({\"parameters\":parameters}, json_path)\n"
   ]
  },
  {
   "cell_type": "code",
   "execution_count": 18,
   "metadata": {},
   "outputs": [],
   "source": [
    "def trainModel(model,compile_parameters,X_train, y_train, validation_data, epochs, batch_size,experiment_rootdir,weights_path,json_path):\n",
    "    model.compile(loss='categorical_crossentropy', optimizer=compile_parameters['optimizer'], metrics=compile_parameters['metrics'])\n",
    "    print(model.summary())\n",
    "    history = model.fit(x= X_train, y= y_train, validation_data = validation_data, epochs = epochs, batch_size= batch_size)\n",
    "    model.save_weights(weights_path)\n",
    "    hist_df = pd.DataFrame(history.history) \n",
    "    data = {\"train_result2\":hist_df.to_dict()}\n",
    "    write_json(data,json_path)\n",
    "    return history"
   ]
  },
  {
   "cell_type": "markdown",
   "metadata": {},
   "source": [
    "# Training "
   ]
  },
  {
   "cell_type": "code",
   "execution_count": 19,
   "metadata": {
    "scrolled": true
   },
   "outputs": [
    {
     "name": "stdout",
     "output_type": "stream",
     "text": [
      "Impossible to find weight path. Returning untrained model\n",
      "Model: \"model\"\n",
      "_________________________________________________________________\n",
      " Layer (type)                Output Shape              Param #   \n",
      "=================================================================\n",
      " input_1 (InputLayer)        [(None, 32, 32, 3)]       0         \n",
      "                                                                 \n",
      " conv2d (Conv2D)             (None, 32, 32, 64)        1792      \n",
      "                                                                 \n",
      " conv2d_1 (Conv2D)           (None, 32, 32, 64)        36928     \n",
      "                                                                 \n",
      " max_pooling2d (MaxPooling2D  (None, 16, 16, 64)       0         \n",
      " )                                                               \n",
      "                                                                 \n",
      " conv2d_2 (Conv2D)           (None, 16, 16, 128)       73856     \n",
      "                                                                 \n",
      " conv2d_3 (Conv2D)           (None, 16, 16, 128)       147584    \n",
      "                                                                 \n",
      " max_pooling2d_1 (MaxPooling  (None, 8, 8, 128)        0         \n",
      " 2D)                                                             \n",
      "                                                                 \n",
      " conv2d_4 (Conv2D)           (None, 8, 8, 256)         295168    \n",
      "                                                                 \n",
      " conv2d_5 (Conv2D)           (None, 8, 8, 256)         590080    \n",
      "                                                                 \n",
      " conv2d_6 (Conv2D)           (None, 8, 8, 256)         590080    \n",
      "                                                                 \n",
      " max_pooling2d_2 (MaxPooling  (None, 4, 4, 256)        0         \n",
      " 2D)                                                             \n",
      "                                                                 \n",
      " conv2d_7 (Conv2D)           (None, 4, 4, 512)         1180160   \n",
      "                                                                 \n",
      " conv2d_8 (Conv2D)           (None, 4, 4, 512)         2359808   \n",
      "                                                                 \n",
      " conv2d_9 (Conv2D)           (None, 4, 4, 512)         2359808   \n",
      "                                                                 \n",
      " max_pooling2d_3 (MaxPooling  (None, 2, 2, 512)        0         \n",
      " 2D)                                                             \n",
      "                                                                 \n",
      " conv2d_10 (Conv2D)          (None, 2, 2, 512)         2359808   \n",
      "                                                                 \n",
      " conv2d_11 (Conv2D)          (None, 2, 2, 512)         2359808   \n",
      "                                                                 \n",
      " conv2d_12 (Conv2D)          (None, 2, 2, 512)         2359808   \n",
      "                                                                 \n",
      " max_pooling2d_4 (MaxPooling  (None, 1, 1, 512)        0         \n",
      " 2D)                                                             \n",
      "                                                                 \n",
      " flatten (Flatten)           (None, 512)               0         \n",
      "                                                                 \n",
      " dropout (Dropout)           (None, 512)               0         \n",
      "                                                                 \n",
      " dense (Dense)               (None, 512)               262656    \n",
      "                                                                 \n",
      " dropout_1 (Dropout)         (None, 512)               0         \n",
      "                                                                 \n",
      " dense_1 (Dense)             (None, 512)               262656    \n",
      "                                                                 \n",
      " dropout_2 (Dropout)         (None, 512)               0         \n",
      "                                                                 \n",
      " dense_2 (Dense)             (None, 10)                5130      \n",
      "                                                                 \n",
      "=================================================================\n",
      "Total params: 15,245,130\n",
      "Trainable params: 15,245,130\n",
      "Non-trainable params: 0\n",
      "_________________________________________________________________\n",
      "None\n"
     ]
    },
    {
     "name": "stderr",
     "output_type": "stream",
     "text": [
      "2022-01-04 18:23:15.496110: W tensorflow/core/framework/cpu_allocator_impl.cc:82] Allocation of 491520000 exceeds 10% of free system memory.\n"
     ]
    },
    {
     "name": "stdout",
     "output_type": "stream",
     "text": [
      "Epoch 1/100\n",
      " 1/79 [..............................] - ETA: 24:54 - loss: 2.3026 - accuracy: 0.0625"
     ]
    }
   ],
   "source": [
    "#Get model\n",
    "model = VGG16(dropout, num_classes, img_width=32, img_height=32, img_channels=3)\n",
    "#load weights\n",
    "load_previous_weights(model,weights_path)\n",
    "#training model\n",
    "val = (X_test, y_test)\n",
    "history =trainModel(model,compile_parameters,X_train, y_train,val, epochs, batch_size,experiment_rootdir,weights_path,json_path)"
   ]
  },
  {
   "cell_type": "code",
   "execution_count": 14,
   "metadata": {},
   "outputs": [
    {
     "data": {
      "text/plain": [
       "<Figure size 432x288 with 0 Axes>"
      ]
     },
     "metadata": {},
     "output_type": "display_data"
    }
   ],
   "source": [
    "saveFigures(experiment_rootdir, history, \"accuracy\", \"loss\")"
   ]
  },
  {
   "cell_type": "code",
   "execution_count": 17,
   "metadata": {},
   "outputs": [
    {
     "ename": "TypeError",
     "evalue": "If no scoring is specified, the estimator passed should have a 'score' method. The estimator <keras.engine.training.Model object at 0x000002384B30F748> does not.",
     "output_type": "error",
     "traceback": [
      "\u001b[1;31m---------------------------------------------------------------------------\u001b[0m",
      "\u001b[1;31mTypeError\u001b[0m                                 Traceback (most recent call last)",
      "\u001b[1;32m~\\AppData\\Local\\Temp/ipykernel_10060/4255453880.py\u001b[0m in \u001b[0;36m<module>\u001b[1;34m\u001b[0m\n\u001b[0;32m     11\u001b[0m rnd_search_cv.fit(X_train, y_train, epochs=100,\n\u001b[0;32m     12\u001b[0m                   \u001b[0mvalidation_data\u001b[0m\u001b[1;33m=\u001b[0m\u001b[1;33m(\u001b[0m\u001b[0mX_valid\u001b[0m\u001b[1;33m,\u001b[0m \u001b[0my_valid\u001b[0m\u001b[1;33m)\u001b[0m\u001b[1;33m,\u001b[0m\u001b[1;33m\u001b[0m\u001b[1;33m\u001b[0m\u001b[0m\n\u001b[1;32m---> 13\u001b[1;33m                   callbacks=[keras.callbacks.EarlyStopping(patience=10)])\n\u001b[0m",
      "\u001b[1;32m~\\anaconda3\\envs\\entornoGPU\\lib\\site-packages\\sklearn\\model_selection\\_search.py\u001b[0m in \u001b[0;36mfit\u001b[1;34m(self, X, y, groups, **fit_params)\u001b[0m\n\u001b[0;32m    791\u001b[0m             \u001b[0mscorers\u001b[0m \u001b[1;33m=\u001b[0m \u001b[0mself\u001b[0m\u001b[1;33m.\u001b[0m\u001b[0mscoring\u001b[0m\u001b[1;33m\u001b[0m\u001b[1;33m\u001b[0m\u001b[0m\n\u001b[0;32m    792\u001b[0m         \u001b[1;32melif\u001b[0m \u001b[0mself\u001b[0m\u001b[1;33m.\u001b[0m\u001b[0mscoring\u001b[0m \u001b[1;32mis\u001b[0m \u001b[1;32mNone\u001b[0m \u001b[1;32mor\u001b[0m \u001b[0misinstance\u001b[0m\u001b[1;33m(\u001b[0m\u001b[0mself\u001b[0m\u001b[1;33m.\u001b[0m\u001b[0mscoring\u001b[0m\u001b[1;33m,\u001b[0m \u001b[0mstr\u001b[0m\u001b[1;33m)\u001b[0m\u001b[1;33m:\u001b[0m\u001b[1;33m\u001b[0m\u001b[1;33m\u001b[0m\u001b[0m\n\u001b[1;32m--> 793\u001b[1;33m             \u001b[0mscorers\u001b[0m \u001b[1;33m=\u001b[0m \u001b[0mcheck_scoring\u001b[0m\u001b[1;33m(\u001b[0m\u001b[0mself\u001b[0m\u001b[1;33m.\u001b[0m\u001b[0mestimator\u001b[0m\u001b[1;33m,\u001b[0m \u001b[0mself\u001b[0m\u001b[1;33m.\u001b[0m\u001b[0mscoring\u001b[0m\u001b[1;33m)\u001b[0m\u001b[1;33m\u001b[0m\u001b[1;33m\u001b[0m\u001b[0m\n\u001b[0m\u001b[0;32m    794\u001b[0m         \u001b[1;32melse\u001b[0m\u001b[1;33m:\u001b[0m\u001b[1;33m\u001b[0m\u001b[1;33m\u001b[0m\u001b[0m\n\u001b[0;32m    795\u001b[0m             \u001b[0mscorers\u001b[0m \u001b[1;33m=\u001b[0m \u001b[0m_check_multimetric_scoring\u001b[0m\u001b[1;33m(\u001b[0m\u001b[0mself\u001b[0m\u001b[1;33m.\u001b[0m\u001b[0mestimator\u001b[0m\u001b[1;33m,\u001b[0m \u001b[0mself\u001b[0m\u001b[1;33m.\u001b[0m\u001b[0mscoring\u001b[0m\u001b[1;33m)\u001b[0m\u001b[1;33m\u001b[0m\u001b[1;33m\u001b[0m\u001b[0m\n",
      "\u001b[1;32m~\\anaconda3\\envs\\entornoGPU\\lib\\site-packages\\sklearn\\metrics\\_scorer.py\u001b[0m in \u001b[0;36mcheck_scoring\u001b[1;34m(estimator, scoring, allow_none)\u001b[0m\n\u001b[0;32m    477\u001b[0m             raise TypeError(\n\u001b[0;32m    478\u001b[0m                 \u001b[1;34m\"If no scoring is specified, the estimator passed should \"\u001b[0m\u001b[1;33m\u001b[0m\u001b[1;33m\u001b[0m\u001b[0m\n\u001b[1;32m--> 479\u001b[1;33m                 \u001b[1;34m\"have a 'score' method. The estimator %r does not.\"\u001b[0m \u001b[1;33m%\u001b[0m \u001b[0mestimator\u001b[0m\u001b[1;33m\u001b[0m\u001b[1;33m\u001b[0m\u001b[0m\n\u001b[0m\u001b[0;32m    480\u001b[0m             )\n\u001b[0;32m    481\u001b[0m     \u001b[1;32melif\u001b[0m \u001b[0misinstance\u001b[0m\u001b[1;33m(\u001b[0m\u001b[0mscoring\u001b[0m\u001b[1;33m,\u001b[0m \u001b[0mIterable\u001b[0m\u001b[1;33m)\u001b[0m\u001b[1;33m:\u001b[0m\u001b[1;33m\u001b[0m\u001b[1;33m\u001b[0m\u001b[0m\n",
      "\u001b[1;31mTypeError\u001b[0m: If no scoring is specified, the estimator passed should have a 'score' method. The estimator <keras.engine.training.Model object at 0x000002384B30F748> does not."
     ]
    }
   ],
   "source": [
    "\n",
    "from scipy.stats import reciprocal\n",
    "from sklearn.model_selection import RandomizedSearchCV\n",
    "\n",
    "param_distribs = {\n",
    "    \"batch_size\": np.arange(10, 40, 10),\n",
    "    \"initial_lr\": np.arange(0.00001, 0.0001, 0.00001),\n",
    "    \"dropout\": np.arange(0.1, 0.9, 0.1)\n",
    "}\n",
    "\n",
    "rnd_search_cv = RandomizedSearchCV(model, param_distribs, n_iter=10, cv=3, verbose=2)\n",
    "rnd_search_cv.fit(X_train, y_train, epochs=100,\n",
    "                  validation_data=(X_valid, y_valid),\n",
    "                  callbacks=[keras.callbacks.EarlyStopping(patience=10)])"
   ]
  },
  {
   "cell_type": "markdown",
   "metadata": {},
   "source": [
    "# Testing"
   ]
  },
  {
   "cell_type": "code",
   "execution_count": 15,
   "metadata": {},
   "outputs": [
    {
     "data": {
      "text/plain": [
       "' \\n# Create groundtruth\\ngt = np.zeros(y_pred.shape)\\ninit_index = 0\\nend_index = 0\\nuser_id = 0\\nfor users in sorted(os.listdir(test_dir)):\\n    user_id = user_id + 1\\n    if os.path.isdir(os.path.join(test_dir, users)):\\n        user_path = os.path.join(test_dir, users)\\n        for root, _, files in sorted(os.walk(user_path)):\\n            num_images_user = len(files)\\n            end_index = init_index + num_images_user\\n            gt[init_index:end_index] = user_id - 1\\n            init_index = end_index\\n            \\n# Evaluate predictions: Average accuracy and highest errors\\nprint(\"-----------------------------------------------\")\\nprint(\"Evaluation:\")\\n# Compute average accuracy\\nave_accuracy = metrics.accuracy_score(gt, y_pred)\\nprint(\\'Average accuracy = \\', ave_accuracy)\\nprint(\"-----------------------------------------------\")\\n\\n# Visualize confusion matrix                                           \\nplotcm.plotcm(experiment_rootdir, gt, y_pred,class_names, experiment_rootdir, normalize=True)\\n'"
      ]
     },
     "execution_count": 15,
     "metadata": {},
     "output_type": "execute_result"
    }
   ],
   "source": [
    "model = VGG16(dropout, num_classes, img_width=32, img_height=32, img_channels=3)\n",
    "# Load saved weights\n",
    "model.compile(loss='categorical_crossentropy', optimizer=compile_parameters['optimizer'], metrics=compile_parameters['metrics'])\n",
    "\n",
    "y_proba = model.predict(X_test)\n",
    "y_pred = np.argmax(model.predict(X_test), axis=1)\n",
    "''' \n",
    "# Create groundtruth\n",
    "gt = np.zeros(y_pred.shape)\n",
    "init_index = 0\n",
    "end_index = 0\n",
    "user_id = 0\n",
    "for users in sorted(os.listdir(test_dir)):\n",
    "    user_id = user_id + 1\n",
    "    if os.path.isdir(os.path.join(test_dir, users)):\n",
    "        user_path = os.path.join(test_dir, users)\n",
    "        for root, _, files in sorted(os.walk(user_path)):\n",
    "            num_images_user = len(files)\n",
    "            end_index = init_index + num_images_user\n",
    "            gt[init_index:end_index] = user_id - 1\n",
    "            init_index = end_index\n",
    "            \n",
    "# Evaluate predictions: Average accuracy and highest errors\n",
    "print(\"-----------------------------------------------\")\n",
    "print(\"Evaluation:\")\n",
    "# Compute average accuracy\n",
    "ave_accuracy = metrics.accuracy_score(gt, y_pred)\n",
    "print('Average accuracy = ', ave_accuracy)\n",
    "print(\"-----------------------------------------------\")\n",
    "\n",
    "# Visualize confusion matrix                                           \n",
    "plotcm.plotcm(experiment_rootdir, gt, y_pred,class_names, experiment_rootdir, normalize=True)\n",
    "'''"
   ]
  },
  {
   "cell_type": "code",
   "execution_count": null,
   "metadata": {},
   "outputs": [],
   "source": []
  }
 ],
 "metadata": {
  "kernelspec": {
   "display_name": "Python 3 (ipykernel)",
   "language": "python",
   "name": "python3"
  },
  "language_info": {
   "codemirror_mode": {
    "name": "ipython",
    "version": 3
   },
   "file_extension": ".py",
   "mimetype": "text/x-python",
   "name": "python",
   "nbconvert_exporter": "python",
   "pygments_lexer": "ipython3",
   "version": "3.7.3"
  }
 },
 "nbformat": 4,
 "nbformat_minor": 4
}
