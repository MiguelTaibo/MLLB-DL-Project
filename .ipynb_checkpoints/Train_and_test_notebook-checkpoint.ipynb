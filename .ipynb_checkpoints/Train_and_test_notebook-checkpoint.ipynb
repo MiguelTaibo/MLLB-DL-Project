{
 "cells": [
  {
   "cell_type": "markdown",
   "metadata": {},
   "source": [
    "# Check GPU options"
   ]
  },
  {
   "cell_type": "code",
   "execution_count": null,
   "metadata": {},
   "outputs": [],
   "source": [
    "from tensorflow.python.client import device_lib\n",
    "print(device_lib.list_local_devices())"
   ]
  },
  {
   "cell_type": "markdown",
   "metadata": {},
   "source": [
    "# Import needed libraries"
   ]
  },
  {
   "cell_type": "code",
   "execution_count": null,
   "metadata": {},
   "outputs": [],
   "source": [
    "# Import general purpose python libraries\n",
    "import os\n",
    "import matplotlib.pyplot as plt\n",
    "from PIL import Image # For handling the images\n",
    "import numpy as np\n",
    "from sklearn import metrics\n",
    "import pandas as pd\n",
    "# Import different Keras functionalities\n",
    "import tensorflow as tf\n",
    "from tensorflow import keras\n",
    "from keras.models import Sequential,Model,load_model\n",
    "from keras.layers import Dense,Flatten,Dropout,concatenate,Input\n",
    "from keras.constraints import maxnorm\n",
    "from keras.utils import np_utils\n",
    "from keras.optimizers import SGD,Adagrad\n",
    "from keras import backend as K\n",
    "from keras.layers.convolutional import Conv2D, MaxPooling2D\n",
    "#from keras.applications import ResNet50,Xception,VGG16,VGG19\n",
    "from keras.preprocessing.image import ImageDataGenerator  \n",
    "\n",
    "####\n",
    "# Where to save the figures\n",
    "IMAGES_PATH = \"../images\"\n",
    "os.makedirs(IMAGES_PATH, exist_ok=True)\n",
    "\n",
    "def save_fig(fig_id, tight_layout=True, fig_extension=\"png\", resolution=300):\n",
    "    path = os.path.join(IMAGES_PATH, fig_id + \".\" + fig_extension)\n",
    "    print(\"Saving figure\", fig_id)\n",
    "    if tight_layout:\n",
    "        plt.tight_layout()\n",
    "    plt.savefig(path, format=fig_extension, dpi=resolution)\n",
    "from utils import saveFigures,write_json,create_json,load_previous_weights\n",
    "\n",
    "os.chdir(\"./models/\")\n",
    "from vgg16 import VGG16\n",
    "os.chdir(\"../\")"
   ]
  },
  {
   "cell_type": "markdown",
   "metadata": {},
   "source": [
    "# Visualize data"
   ]
  },
  {
   "cell_type": "code",
   "execution_count": null,
   "metadata": {},
   "outputs": [],
   "source": [
    "cifar10 = keras.datasets.cifar10\n",
    "(X_train_full, y_train_full), (X_test, y_test) = cifar10.load_data()"
   ]
  },
  {
   "cell_type": "code",
   "execution_count": null,
   "metadata": {},
   "outputs": [],
   "source": [
    "X_valid, X_train = X_train_full[:15000] / 255., X_train_full[35000:] / 255.\n",
    "y_valid, y_train = y_train_full[:15000], y_train_full[35000:]\n",
    "X_test = X_test / 255.\n",
    "# one hot encode outputs\n",
    "y_train = np_utils.to_categorical(y_train)\n",
    "y_test = np_utils.to_categorical(y_test)\n",
    "num_classes = y_test.shape[1]\n",
    "\n",
    "print(\"num_training_samples: \", X_train.shape)"
   ]
  },
  {
   "cell_type": "code",
   "execution_count": null,
   "metadata": {},
   "outputs": [],
   "source": [
    "class_names = [\"airplane\",\"automobile\",\"bird\",\"cat\",\"deer\",\"dog\",\"frog\",\"horse\",\"ship\",\"truck\"]\n"
   ]
  },
  {
   "cell_type": "markdown",
   "metadata": {},
   "source": [
    "# Configuration parameters\n",
    "Configuration values of different parts of the solution. You should change some of them to obtain better results."
   ]
  },
  {
   "cell_type": "code",
   "execution_count": null,
   "metadata": {},
   "outputs": [],
   "source": [
    "from datetime import datetime\n",
    "# Randomize the initial network \n",
    "keras.backend.clear_session()\n",
    "np.random.seed(42)\n",
    "tf.random.set_seed(42)\n",
    "\n",
    "\n",
    "# Directory where to store weights of the model and results\n",
    "now = datetime.now()\n",
    "current_time = now.strftime(\"%d_%H_%M_%S\")\n",
    "experiment_rootdir = \"./test/\"+current_time+\"/\"\n",
    "weights_path = experiment_rootdir +\"weights.h5\"\n",
    "weights_best_path = experiment_rootdir +\"weights_best.h5\"\n",
    "json_path = experiment_rootdir +\"experiment.json\"\n",
    "\n",
    "# Create experiment directory if it does not exists\n",
    "if not os.path.exists(experiment_rootdir):\n",
    "    os.makedirs(experiment_rootdir)\n",
    "\n"
   ]
  },
  {
   "cell_type": "code",
   "execution_count": null,
   "metadata": {},
   "outputs": [],
   "source": [
    "# Parameters that configures the training process\n",
    "name_model = \"Prueba\"\n",
    "batch_size = 20 # Batch size\n",
    "epochs = 100 #Number of epochs\n",
    "initial_epoch = 0 # Initial epoch, it can be greater than 0 if you want to contiue a previous training process\n",
    "initial_lr = 1e-4 # Learning rate\n",
    "num_classes = 10\n",
    "dropout = 0.5\n",
    "compile_parameters = { \"metrics\": ['accuracy'],\n",
    "                      \"optimizer\": SGD(learning_rate=0.001, momentum=0.9)}\n",
    "checkpoint_cb = keras.callbacks.ModelCheckpoint(weights_best_path,\n",
    "save_best_only=True)\n",
    "early_stopping_cb = keras.callbacks.EarlyStopping(patience=10,\n",
    "restore_best_weights=True)\n",
    "'''\n",
    "optimizer=  = keras.optimizers.SGD(learning_rate=0.001, momentum=0.9)\n",
    "optimizer = keras.optimizers.SGD(learning_rate=0.001, momentum=0.9, nesterov=True)\n",
    "optimizer = keras.optimizers.Adagrad(learning_rate=0.001)\n",
    "optimizer = keras.optimizers.RMSprop(learning_rate=0.001, rho=0.9)\n",
    "optimizer = keras.optimizers.Adam(learning_rate=0.001, beta_1=0.9, beta_2=0.999)\n",
    "optimizer = keras.optimizers.Adamax(learning_rate=0.001, beta_1=0.9, beta_2=0.999)\n",
    "optimizer = keras.optimizers.Nadam(learning_rate=0.001, beta_1=0.9, beta_2=0.999)\n",
    "'''\n",
    "\n",
    "parameters = {\n",
    "    \"name_model\":name_model,\n",
    "    \"compile_parameters\" :str(compile_parameters) ,\n",
    "    \"batch_size\": batch_size,\n",
    "    \"epochs\": epochs, \n",
    "    \"initial_epoch\":initial_epoch, \n",
    "    \"initial_lr\": initial_lr,\n",
    "    \"num_classes\": num_classes,\n",
    "    \"dropout\": dropout\n",
    "\n",
    "}\n",
    "create_json({\"parameters\":parameters}, json_path)\n"
   ]
  },
  {
   "cell_type": "code",
   "execution_count": null,
   "metadata": {},
   "outputs": [],
   "source": [
    "def trainModel(model,compile_parameters,X_train, y_train, validation_data, epochs, batch_size,experiment_rootdir,weights_path,json_path):\n",
    "    model.compile(loss='categorical_crossentropy', optimizer=compile_parameters['optimizer'], metrics=compile_parameters['metrics'])\n",
    "    print(model.summary())\n",
    "    history = model.fit(x= X_train, y= y_train, validation_data = validation_data, epochs = epochs, batch_size= batch_size,callbacks=[checkpoint_cb, early_stopping_cb])\n",
    "    model.save_weights(weights_path)\n",
    "    hist_df = pd.DataFrame(history.history) \n",
    "    data = {\"train_result2\":hist_df.to_dict()}\n",
    "    write_json(data,json_path)\n",
    "    return history"
   ]
  },
  {
   "cell_type": "markdown",
   "metadata": {},
   "source": [
    "# Training "
   ]
  },
  {
   "cell_type": "code",
   "execution_count": null,
   "metadata": {
    "scrolled": true
   },
   "outputs": [],
   "source": [
    "#Get model\n",
    "model = VGG16(dropout, num_classes, img_width=32, img_height=32, img_channels=3)\n",
    "#load weights\n",
    "load_previous_weights(model,weights_path)\n",
    "#training model\n",
    "val = (X_test, y_test)\n",
    "history =trainModel(model,compile_parameters,X_train, y_train,val, epochs, batch_size,experiment_rootdir,weights_path,json_path)\n",
    "saveFigures(experiment_rootdir, history, \"accuracy\", \"loss\")"
   ]
  },
  {
   "cell_type": "code",
   "execution_count": null,
   "metadata": {},
   "outputs": [],
   "source": [
    "\n",
    "from scipy.stats import reciprocal\n",
    "from sklearn.model_selection import RandomizedSearchCV\n",
    "\n",
    "param_distribs = {\n",
    "    \"batch_size\": np.arange(10, 40, 10),\n",
    "    \"initial_lr\": np.arange(0.00001, 0.0001, 0.00001),\n",
    "    \"dropout\": np.arange(0.1, 0.9, 0.1)\n",
    "}\n",
    "\n",
    "rnd_search_cv = RandomizedSearchCV(model, param_distribs, n_iter=10, cv=3, verbose=2)\n",
    "rnd_search_cv.fit(X_train, y_train, epochs=100,\n",
    "                  validation_data=(X_valid, y_valid),\n",
    "                  callbacks=[keras.callbacks.EarlyStopping(patience=10)])"
   ]
  },
  {
   "cell_type": "markdown",
   "metadata": {},
   "source": [
    "# Testing"
   ]
  },
  {
   "cell_type": "code",
   "execution_count": null,
   "metadata": {},
   "outputs": [],
   "source": [
    "model = VGG16(dropout, num_classes, img_width=32, img_height=32, img_channels=3)\n",
    "# Load saved weights\n",
    "model.compile(loss='categorical_crossentropy', optimizer=compile_parameters['optimizer'], metrics=compile_parameters['metrics'])\n",
    "\n",
    "y_proba = model.predict(X_test)\n",
    "y_pred = np.argmax(model.predict(X_test), axis=1)\n",
    "''' \n",
    "# Create groundtruth\n",
    "gt = np.zeros(y_pred.shape)\n",
    "init_index = 0\n",
    "end_index = 0\n",
    "user_id = 0\n",
    "for users in sorted(os.listdir(test_dir)):\n",
    "    user_id = user_id + 1\n",
    "    if os.path.isdir(os.path.join(test_dir, users)):\n",
    "        user_path = os.path.join(test_dir, users)\n",
    "        for root, _, files in sorted(os.walk(user_path)):\n",
    "            num_images_user = len(files)\n",
    "            end_index = init_index + num_images_user\n",
    "            gt[init_index:end_index] = user_id - 1\n",
    "            init_index = end_index\n",
    "            \n",
    "# Evaluate predictions: Average accuracy and highest errors\n",
    "print(\"-----------------------------------------------\")\n",
    "print(\"Evaluation:\")\n",
    "# Compute average accuracy\n",
    "ave_accuracy = metrics.accuracy_score(gt, y_pred)\n",
    "print('Average accuracy = ', ave_accuracy)\n",
    "print(\"-----------------------------------------------\")\n",
    "\n",
    "# Visualize confusion matrix                                           \n",
    "plotcm.plotcm(experiment_rootdir, gt, y_pred,class_names, experiment_rootdir, normalize=True)\n",
    "'''"
   ]
  },
  {
   "cell_type": "code",
   "execution_count": null,
   "metadata": {},
   "outputs": [],
   "source": []
  }
 ],
 "metadata": {
  "kernelspec": {
   "display_name": "Python 3 (ipykernel)",
   "language": "python",
   "name": "python3"
  },
  "language_info": {
   "codemirror_mode": {
    "name": "ipython",
    "version": 3
   },
   "file_extension": ".py",
   "mimetype": "text/x-python",
   "name": "python",
   "nbconvert_exporter": "python",
   "pygments_lexer": "ipython3",
   "version": "3.7.7"
  }
 },
 "nbformat": 4,
 "nbformat_minor": 4
}
